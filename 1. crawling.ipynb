{
 "cells": [
  {
   "cell_type": "code",
   "execution_count": 4,
   "metadata": {},
   "outputs": [],
   "source": [
    "import sqlite3\n",
    "import requests\n",
    "from bs4 import BeautifulSoup\n",
    "from tqdm import tqdm\n",
    "\n",
    "def get_db(db_name):\n",
    "\tdb = sqlite3.connect(db_name)\n",
    "\treturn db\n",
    "\n",
    "def close_db(db):\n",
    "    db.close()\n",
    "\n",
    "def load_article_id_map(db_name):\n",
    "    db = get_db(db_name).cursor()\n",
    "    db.execute(f\"\"\"SELECT title, date, origin_link, origin_id\n",
    "                    FROM article_id_map \n",
    "                    WHERE date LIKE '2024%';\"\"\")\n",
    "    rows = db.fetchall()\n",
    "    return rows\n",
    "\n",
    "# 테이블 생성 (이미 존재하면 생략)\n",
    "def create(db_name):\n",
    "    db = get_db(db_name)\n",
    "    cursor = db.cursor()\n",
    "    cursor.execute('''\n",
    "        CREATE TABLE IF NOT EXISTS article (\n",
    "            id INTEGER PRIMARY KEY,\n",
    "            title TEXT NOT NULL,\n",
    "            date INTEGER NOT NULL,\n",
    "            content TEXT NOT NULL,\n",
    "            link TEXT NOT NULL\n",
    "        )\n",
    "    ''')\n",
    "    db.commit()  # 변경사항 저장\n",
    "    close_db(db) # 접속 종료\n",
    "\n",
    "def crawling(url):\n",
    "    try:\n",
    "        response = requests.get(url)\n",
    "        response.raise_for_status()  # 요청에 실패하면 예외 발생\n",
    "        soup = BeautifulSoup(response.text, 'html.parser')\n",
    "        article_section = soup.find('section', class_='news_view')\n",
    "        \n",
    "        if article_section:\n",
    "            # 광고 등 불필요한 태그를 제거\n",
    "            for ad in article_section.find_all(['div', 'script', 'figure']):\n",
    "                ad.decompose()\n",
    "            \n",
    "            # 남은 텍스트 추출\n",
    "            article_text = article_section.get_text(separator=' ', strip=True)\n",
    "            return article_text\n",
    "        else:\n",
    "            return None\n",
    "    except requests.RequestException as e:\n",
    "        print(f\"HTTP 요청 실패: {e}\")\n",
    "        return None\n",
    "    \n",
    "def insert(db_name, rows):\n",
    "    db = get_db(db_name)\n",
    "    cursor = db.cursor()\n",
    "    for row in tqdm(rows):\n",
    "        content = crawling(row[2])\n",
    "        if content:\n",
    "            cursor.execute('''\n",
    "                INSERT INTO article (id, title, date, content, link)\n",
    "                VALUES (?, ?, ?, ?, ?)\n",
    "            ''', (row[3], row[0], row[1], content, row[2])) # origin_id, title, date, content, link\n",
    "    db.commit()\n",
    "    close_db(db)\n",
    "\n",
    "def select(db_name):\n",
    "    db = get_db(db_name).cursor()\n",
    "    db.execute(f\"\"\"SELECT id, title, date, content, link\n",
    "                    FROM article;\"\"\")\n",
    "    rows = db.fetchall()\n",
    "    return rows"
   ]
  },
  {
   "cell_type": "code",
   "execution_count": 5,
   "metadata": {},
   "outputs": [],
   "source": [
    "rows = load_article_id_map('dataset/pr-db.db')"
   ]
  },
  {
   "cell_type": "code",
   "execution_count": 6,
   "metadata": {},
   "outputs": [
    {
     "data": {
      "text/plain": [
       "32544"
      ]
     },
     "execution_count": 6,
     "metadata": {},
     "output_type": "execute_result"
    }
   ],
   "source": [
    "len(rows)"
   ]
  },
  {
   "cell_type": "code",
   "execution_count": null,
   "metadata": {},
   "outputs": [],
   "source": [
    "# 새로운 DB 만들고 insert\n",
    "create('dataset/2024.db')\n",
    "insert('dataset/2024.db', rows)"
   ]
  },
  {
   "cell_type": "code",
   "execution_count": 7,
   "metadata": {},
   "outputs": [
    {
     "data": {
      "text/plain": [
       "32294"
      ]
     },
     "execution_count": 7,
     "metadata": {},
     "output_type": "execute_result"
    }
   ],
   "source": [
    "rows = select('dataset/2024.db')\n",
    "len(rows)"
   ]
  },
  {
   "cell_type": "code",
   "execution_count": 9,
   "metadata": {},
   "outputs": [
    {
     "data": {
      "text/html": [
       "<div>\n",
       "<style scoped>\n",
       "    .dataframe tbody tr th:only-of-type {\n",
       "        vertical-align: middle;\n",
       "    }\n",
       "\n",
       "    .dataframe tbody tr th {\n",
       "        vertical-align: top;\n",
       "    }\n",
       "\n",
       "    .dataframe thead th {\n",
       "        text-align: right;\n",
       "    }\n",
       "</style>\n",
       "<table border=\"1\" class=\"dataframe\">\n",
       "  <thead>\n",
       "    <tr style=\"text-align: right;\">\n",
       "      <th></th>\n",
       "      <th>id</th>\n",
       "      <th>title</th>\n",
       "      <th>date</th>\n",
       "      <th>content</th>\n",
       "      <th>link</th>\n",
       "    </tr>\n",
       "  </thead>\n",
       "  <tbody>\n",
       "    <tr>\n",
       "      <th>0</th>\n",
       "      <td>122846231</td>\n",
       "      <td>中 군 고위간부 9명 전인대 대표 박탈… ‘로켓군’ 납품 관련 부패사건 연루 의혹</td>\n",
       "      <td>20240101</td>\n",
       "      <td>“리상푸 前국방부장 낙마와 연관” 리부장 후임엔 해군출신 둥쥔 중국 당국이 ‘반(反...</td>\n",
       "      <td>https://www.donga.com/news/Inter/article/all/2...</td>\n",
       "    </tr>\n",
       "    <tr>\n",
       "      <th>1</th>\n",
       "      <td>122846362</td>\n",
       "      <td>서울 12cm 기습 폭설… “이런 눈 또 온다”</td>\n",
       "      <td>20240101</td>\n",
       "      <td>13년만에 최대… 도로 곳곳 사고 방파제 추락-조난사고도 발생 “엘니뇨-온난화로 폭...</td>\n",
       "      <td>https://www.donga.com/news/Society/article/all...</td>\n",
       "    </tr>\n",
       "    <tr>\n",
       "      <th>2</th>\n",
       "      <td>122846400</td>\n",
       "      <td>‘자산 301조원’ 머스크, 세계 최고 부자에</td>\n",
       "      <td>20240101</td>\n",
       "      <td>1년새 124조원 늘어… 증가액도 1위 아르노 LVMH 회장 2위로 밀려나 베이조스...</td>\n",
       "      <td>https://www.donga.com/news/People/article/all/...</td>\n",
       "    </tr>\n",
       "    <tr>\n",
       "      <th>3</th>\n",
       "      <td>122846403</td>\n",
       "      <td>나이지리아서 피랍 17일만에… 대우건설 韓직원 2명 풀려나</td>\n",
       "      <td>20240101</td>\n",
       "      <td>나이지리아에서 무장단체에 납치됐던 대우건설 한국인 직원 2명이 17일 만에 무사히 ...</td>\n",
       "      <td>https://www.donga.com/news/Economy/article/all...</td>\n",
       "    </tr>\n",
       "    <tr>\n",
       "      <th>4</th>\n",
       "      <td>122846406</td>\n",
       "      <td>부모 학대로 다리 잃은 英 9세 소년, 최연소 훈장 받는다</td>\n",
       "      <td>20240101</td>\n",
       "      <td>혼자 의족-목발로 10km 걷기 도전 자기 이름 딴 재단 세워 32억원 모금 어린이...</td>\n",
       "      <td>https://www.donga.com/news/People/article/all/...</td>\n",
       "    </tr>\n",
       "  </tbody>\n",
       "</table>\n",
       "</div>"
      ],
      "text/plain": [
       "          id                                          title      date  \\\n",
       "0  122846231  中 군 고위간부 9명 전인대 대표 박탈… ‘로켓군’ 납품 관련 부패사건 연루 의혹  20240101   \n",
       "1  122846362                     서울 12cm 기습 폭설… “이런 눈 또 온다”  20240101   \n",
       "2  122846400                      ‘자산 301조원’ 머스크, 세계 최고 부자에  20240101   \n",
       "3  122846403               나이지리아서 피랍 17일만에… 대우건설 韓직원 2명 풀려나  20240101   \n",
       "4  122846406               부모 학대로 다리 잃은 英 9세 소년, 최연소 훈장 받는다  20240101   \n",
       "\n",
       "                                             content  \\\n",
       "0  “리상푸 前국방부장 낙마와 연관” 리부장 후임엔 해군출신 둥쥔 중국 당국이 ‘반(反...   \n",
       "1  13년만에 최대… 도로 곳곳 사고 방파제 추락-조난사고도 발생 “엘니뇨-온난화로 폭...   \n",
       "2  1년새 124조원 늘어… 증가액도 1위 아르노 LVMH 회장 2위로 밀려나 베이조스...   \n",
       "3  나이지리아에서 무장단체에 납치됐던 대우건설 한국인 직원 2명이 17일 만에 무사히 ...   \n",
       "4  혼자 의족-목발로 10km 걷기 도전 자기 이름 딴 재단 세워 32억원 모금 어린이...   \n",
       "\n",
       "                                                link  \n",
       "0  https://www.donga.com/news/Inter/article/all/2...  \n",
       "1  https://www.donga.com/news/Society/article/all...  \n",
       "2  https://www.donga.com/news/People/article/all/...  \n",
       "3  https://www.donga.com/news/Economy/article/all...  \n",
       "4  https://www.donga.com/news/People/article/all/...  "
      ]
     },
     "execution_count": 9,
     "metadata": {},
     "output_type": "execute_result"
    }
   ],
   "source": [
    "import pandas as pd\n",
    "\n",
    "df = pd.DataFrame(rows, columns=['id', 'title', 'date', 'content', 'link'])\n",
    "df.head()"
   ]
  },
  {
   "cell_type": "code",
   "execution_count": 10,
   "metadata": {},
   "outputs": [],
   "source": [
    "df.to_csv(\"dataset/2024.csv\", index=False)"
   ]
  }
 ],
 "metadata": {
  "kernelspec": {
   "display_name": "milvus",
   "language": "python",
   "name": "python3"
  },
  "language_info": {
   "codemirror_mode": {
    "name": "ipython",
    "version": 3
   },
   "file_extension": ".py",
   "mimetype": "text/x-python",
   "name": "python",
   "nbconvert_exporter": "python",
   "pygments_lexer": "ipython3",
   "version": "3.10.14"
  }
 },
 "nbformat": 4,
 "nbformat_minor": 2
}
