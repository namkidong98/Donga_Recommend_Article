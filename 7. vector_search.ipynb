{
 "cells": [
  {
   "cell_type": "markdown",
   "metadata": {},
   "source": [
    "https://python.langchain.com/v0.2/docs/integrations/retrievers/milvus_hybrid_search/"
   ]
  },
  {
   "cell_type": "markdown",
   "metadata": {},
   "source": [
    "## Milvus Connect & Collection Load"
   ]
  },
  {
   "cell_type": "code",
   "execution_count": 1,
   "metadata": {},
   "outputs": [],
   "source": [
    "from pymilvus import connections, utility, FieldSchema, CollectionSchema, DataType, Collection\n",
    "\n",
    "QUERY_MODEL = 'solar-embedding-1-large-query'\n",
    "PASSAGE_MODEL = 'solar-embedding-1-large-passage'\n",
    "\n",
    "DENSE_FIELD = \"dense_vector\"\n",
    "DENSE_DIMENSION = 4096 \n",
    "DENSE_INDEX = {\"index_type\" : \"FLAT\", \"metric_type\" : \"IP\"}\n",
    "\n",
    "SPARSE_FILED = \"sparse_vector\"\n",
    "SPARSE_INDEX = {\"index_type\" : \"SPARSE_INVERTED_INDEX\", \"metric_type\" : \"IP\"}\n",
    "\n",
    "# Collection 접속 및 생성\n",
    "def milvus_connect(collection_name):\n",
    "    # Milvus 설정\n",
    "    MILVUS_HOST = '127.0.0.1'\n",
    "    MILVUS_PORT = '19530'     \n",
    "\n",
    "    # Milvus 연결\n",
    "    connections.connect(host=MILVUS_HOST, port=MILVUS_PORT)\n",
    "    if connections:\n",
    "        print(\"Milvus connected\")\n",
    "    else:\n",
    "        exit()\n",
    "\n",
    "    # 컬렉션 존재 여부 확인 및 생성\n",
    "    if utility.has_collection(collection_name):\n",
    "        collection = Collection(collection_name)\n",
    "        print(f\"Collection '{collection_name}' loaded.\")\n",
    "    else:\n",
    "        print(f\"Collection '{collection_name}' does not exist.\")\n",
    "        print(f\"Create '{collection_name}' Collection.\")\n",
    "        \n",
    "        field_args = [\n",
    "            FieldSchema(name='id', dtype=DataType.VARCHAR, is_primary=True, max_length=100),        # split된 block의 고유 ID\n",
    "            FieldSchema(name='title', dtype=DataType.VARCHAR, max_length=2000),\n",
    "            FieldSchema(name='date', dtype=DataType.INT64),\n",
    "            FieldSchema(name='content', dtype=DataType.VARCHAR, max_length=5000),\n",
    "            FieldSchema(name='NER', dtype=DataType.VARCHAR, max_length=3000),\n",
    "            FieldSchema(name=DENSE_FIELD, dtype=DataType.FLOAT_VECTOR, dim=DENSE_DIMENSION),\n",
    "            FieldSchema(name=SPARSE_FILED, dtype=DataType.SPARSE_FLOAT_VECTOR)\n",
    "        ]\n",
    "        \n",
    "        # 스키마 정의\n",
    "        schema = CollectionSchema(fields=field_args)\n",
    "        \n",
    "        # 컬렉션 생성\n",
    "        collection = Collection(name=collection_name, schema=schema)\n",
    "        \n",
    "        # 인덱스 생성\n",
    "        collection.create_index(\"dense_vector\", DENSE_INDEX)\n",
    "        collection.create_index(\"sparse_vector\", SPARSE_INDEX)\n",
    "\n",
    "        collection.flush()\n",
    "\n",
    "        print(f\"Collection '{collection_name}' created and loaded.\")\n",
    "    # 생성된 컬렉션 반환\n",
    "    return collection\n",
    "\n",
    "# Collection 제거용\n",
    "def drop_collection(collection_name):\n",
    "    MILVUS_HOST = '127.0.0.1'\n",
    "    MILVUS_PORT = '19530' \n",
    "    connections.connect(host=MILVUS_HOST, port=MILVUS_PORT)\n",
    "    if utility.has_collection(collection_name):\n",
    "        utility.drop_collection(collection_name)\n",
    "        print(f\"Drop {collection_name} Complete.\")\n",
    "    else:\n",
    "        print(f\"Can't find {collection_name}.\")"
   ]
  },
  {
   "cell_type": "code",
   "execution_count": 3,
   "metadata": {},
   "outputs": [
    {
     "name": "stdout",
     "output_type": "stream",
     "text": [
      "Milvus connected\n",
      "Collection 'Donga' loaded.\n",
      "<Collection>:\n",
      "-------------\n",
      "<name>: Donga\n",
      "<description>: \n",
      "<schema>: {'auto_id': False, 'description': '', 'fields': [{'name': 'id', 'description': '', 'type': <DataType.VARCHAR: 21>, 'params': {'max_length': 100}, 'is_primary': True, 'auto_id': False}, {'name': 'title', 'description': '', 'type': <DataType.VARCHAR: 21>, 'params': {'max_length': 2000}}, {'name': 'date', 'description': '', 'type': <DataType.INT64: 5>}, {'name': 'content', 'description': '', 'type': <DataType.VARCHAR: 21>, 'params': {'max_length': 5000}}, {'name': 'NER', 'description': '', 'type': <DataType.VARCHAR: 21>, 'params': {'max_length': 3000}}, {'name': 'dense_vector', 'description': '', 'type': <DataType.FLOAT_VECTOR: 101>, 'params': {'dim': 4096}}, {'name': 'sparse_vector', 'description': '', 'type': <DataType.SPARSE_FLOAT_VECTOR: 104>}], 'enable_dynamic_field': False}\n",
      "\n",
      "Milvus connected\n",
      "Collection 'Donga_800' loaded.\n",
      "<Collection>:\n",
      "-------------\n",
      "<name>: Donga_800\n",
      "<description>: \n",
      "<schema>: {'auto_id': True, 'description': '', 'fields': [{'name': 'id', 'description': '', 'type': <DataType.INT64: 5>, 'is_primary': True, 'auto_id': True}, {'name': 'title', 'description': '', 'type': <DataType.VARCHAR: 21>, 'params': {'max_length': 300}}, {'name': 'date', 'description': '', 'type': <DataType.INT64: 5>}, {'name': 'content', 'description': '', 'type': <DataType.VARCHAR: 21>, 'params': {'max_length': 3000}}, {'name': 'link', 'description': '', 'type': <DataType.VARCHAR: 21>, 'params': {'max_length': 300}}, {'name': 'embedding', 'description': '', 'type': <DataType.FLOAT_VECTOR: 101>, 'params': {'dim': 4096}}], 'enable_dynamic_field': False}\n",
      "\n"
     ]
    }
   ],
   "source": [
    "donga = milvus_connect(\"Donga\")\n",
    "print(donga)\n",
    "\n",
    "donga_800 = milvus_connect(\"Donga_800\")\n",
    "print(donga_800)"
   ]
  },
  {
   "cell_type": "markdown",
   "metadata": {},
   "source": [
    "## Load Dense & Sparse Embedding Function"
   ]
  },
  {
   "cell_type": "code",
   "execution_count": 4,
   "metadata": {},
   "outputs": [
    {
     "name": "stderr",
     "output_type": "stream",
     "text": [
      "c:\\Users\\kidong\\anaconda3\\envs\\milvus_hybrid\\lib\\site-packages\\tqdm\\auto.py:21: TqdmWarning: IProgress not found. Please update jupyter and ipywidgets. See https://ipywidgets.readthedocs.io/en/stable/user_install.html\n",
      "  from .autonotebook import tqdm as notebook_tqdm\n",
      "None of PyTorch, TensorFlow >= 2.0, or Flax have been found. Models won't be available and only tokenizers, configuration and file/data utilities can be used.\n"
     ]
    },
    {
     "name": "stdout",
     "output_type": "stream",
     "text": [
      "<model.bm25_model.Custom_BM25 object at 0x0000021FF5A65FC0>\n"
     ]
    }
   ],
   "source": [
    "# Sparse Embedding : Custom BM25\n",
    "\n",
    "from model.bm25_model import Custom_BM25, Kiwi_Tokenizer\n",
    "\n",
    "tokenizer = Kiwi_Tokenizer(\"model/custom_dict.txt\")\n",
    "custom_bm25 = Custom_BM25(corpus=[], tokenizer=tokenizer)\n",
    "custom_bm25.load(\"model/bm25_model.json\")\n",
    "print(custom_bm25)"
   ]
  },
  {
   "cell_type": "code",
   "execution_count": 6,
   "metadata": {},
   "outputs": [],
   "source": [
    "# Dense Embedding : Upstage/solar-embedding-1-large\n",
    "from langchain_upstage import UpstageEmbeddings\n",
    "from dotenv import load_dotenv\n",
    "import os\n",
    "\n",
    "load_dotenv()\n",
    "\n",
    "# dense_embedding_func = UpstageEmbeddings(\n",
    "#     model=\"solar-embedding-1-large-passage\",\n",
    "#     upstage_api_key=os.getenv(\"UPSTAGE_API_KEY\")\n",
    "# )\n",
    "\n",
    "dense_embedding_func = UpstageEmbeddings(\n",
    "    model=\"solar-embedding-1-large-query\",\n",
    "    upstage_api_key=os.getenv(\"UPSTAGE_API_KEY\")\n",
    ")"
   ]
  },
  {
   "cell_type": "markdown",
   "metadata": {},
   "source": [
    "## Retriever"
   ]
  },
  {
   "cell_type": "code",
   "execution_count": 38,
   "metadata": {},
   "outputs": [
    {
     "name": "stdout",
     "output_type": "stream",
     "text": [
      "collection=<Collection>:\n",
      "-------------\n",
      "<name>: Donga\n",
      "<description>: \n",
      "<schema>: {'auto_id': False, 'description': '', 'fields': [{'name': 'id', 'description': '', 'type': <DataType.VARCHAR: 21>, 'params': {'max_length': 100}, 'is_primary': True, 'auto_id': False}, {'name': 'title', 'description': '', 'type': <DataType.VARCHAR: 21>, 'params': {'max_length': 2000}}, {'name': 'date', 'description': '', 'type': <DataType.INT64: 5>}, {'name': 'content', 'description': '', 'type': <DataType.VARCHAR: 21>, 'params': {'max_length': 5000}}, {'name': 'NER', 'description': '', 'type': <DataType.VARCHAR: 21>, 'params': {'max_length': 3000}}, {'name': 'dense_vector', 'description': '', 'type': <DataType.FLOAT_VECTOR: 101>, 'params': {'dim': 4096}}, {'name': 'sparse_vector', 'description': '', 'type': <DataType.SPARSE_FLOAT_VECTOR: 104>}], 'enable_dynamic_field': False}\n",
      " rerank=<pymilvus.client.abstract.WeightedRanker object at 0x0000021FAA3A11E0> anns_fields=['dense_vector', 'sparse_vector'] field_embeddings=[UpstageEmbeddings(client=<openai.resources.embeddings.Embeddings object at 0x0000021FAA3471F0>, async_client=<openai.resources.embeddings.AsyncEmbeddings object at 0x0000021FAA382980>, model='solar-embedding-1-large', dimensions=None, upstage_api_key=SecretStr('**********'), upstage_api_base='https://api.upstage.ai/v1/solar', embedding_ctx_length=4096, embed_batch_size=10, allowed_special=set(), disallowed_special='all', chunk_size=1000, max_retries=2, request_timeout=None, show_progress_bar=False, model_kwargs={}, skip_empty=False, default_headers=None, default_query=None, http_client=None, http_async_client=None), <model.bm25_model.Custom_BM25 object at 0x0000021FF5A65FC0>] field_search_params=[{'metric_type': 'IP', 'params': {}}, {'metric_type': 'IP'}] field_limits=[5, 5] field_exprs=[None, None] top_k=5 text_field='content' output_fields=['id', 'title', 'date', 'content', 'NER']\n"
     ]
    }
   ],
   "source": [
    "from langchain_milvus.retrievers import MilvusCollectionHybridSearchRetriever\n",
    "from pymilvus import WeightedRanker\n",
    "\n",
    "sparse_search_params = {\"metric_type\": \"IP\"}\n",
    "dense_search_params = {\"metric_type\": \"IP\", \"params\": {}}\n",
    "retriever = MilvusCollectionHybridSearchRetriever(\n",
    "    collection=donga,\n",
    "    rerank=WeightedRanker(0.7, 0.3),\n",
    "    anns_fields=[DENSE_FIELD, SPARSE_FILED],\n",
    "    field_embeddings=[dense_embedding_func, custom_bm25],\n",
    "    field_search_params=[dense_search_params, sparse_search_params],\n",
    "    top_k=5,\n",
    "    text_field='content',\n",
    ")\n",
    "print(retriever)"
   ]
  },
  {
   "cell_type": "code",
   "execution_count": 68,
   "metadata": {},
   "outputs": [],
   "source": [
    "def hybrid_search(query : str, filter : str = None):\n",
    "    sparse_search_params = {\"metric_type\": \"IP\"}\n",
    "    dense_search_params = {\"metric_type\": \"IP\", \"params\": {}}\n",
    "\n",
    "    params = {\n",
    "        \"collection\" : donga,\n",
    "        \"rerank\" : WeightedRanker(0.7, 0.3),\n",
    "        \"anns_fields\" : [DENSE_FIELD, SPARSE_FILED],\n",
    "        \"field_embeddings\" : [dense_embedding_func, custom_bm25],\n",
    "        \"field_search_params\" : [dense_search_params, sparse_search_params],\n",
    "        \"top_k\" : 20,\n",
    "        \"text_field\" : 'content',\n",
    "    }\n",
    "    if filter:\n",
    "        params['field_exprs'] = [filter, filter] # 검색 조건 추가(dense와 sparse에 동일하게 적용)\n",
    "    retriever = MilvusCollectionHybridSearchRetriever(**params)\n",
    "    \n",
    "    retrieved_docs = retriever.invoke(query)\n",
    "    data = []\n",
    "    unique_id = []\n",
    "    for retreived_doc in retrieved_docs:\n",
    "        doc_id = retreived_doc.metadata['id'].split(\"_\")[0] # 기사 고유 ID 추출\n",
    "        if doc_id not in unique_id: # 해당 기사가 아직 반환 리스트에 없는 경우만\n",
    "            data.append(retreived_doc)\n",
    "            unique_id.append(doc_id)\n",
    "        if len(data) == 5: break # 상위 5개만 반환\n",
    "    return data"
   ]
  },
  {
   "cell_type": "code",
   "execution_count": 71,
   "metadata": {},
   "outputs": [
    {
     "data": {
      "text/plain": [
       "[Document(metadata={'id': '124474290_1', 'title': '조국당, 광주 득표율 민주연합에 11%P 앞서', 'date': 20240415, 'NER': '조국혁신당 민주연합 조국혁신당 윤석열 이재명 민주당 호남 조국혁신당 국회 민주당 조국혁신당 국민의미래 조국혁신당 더불어민주연합 서울 조국혁신당 더불어민주연합 국민의미래 서초 강남 조국 윤석열 대통령 민주당 이재명 대통령'}, page_content='외한 전 지역에서 조국혁신당이 민주연합을 앞섰다. 이는 조국혁신당이 \"3년은 너무 길다\"며 윤석열 정권 심판 목소리를 민주연합보다 강하고 선명하게 내왔기 때문이라는 분석이다. 이재명 대표의 민주당에 불만을 가진 호남의 야권 지지층이 조국혁신당을 지지한 것으로도 풀이된다. 이 때문에 향후 22대 국회에서 호남 민심을 놓고 민주당과 조국혁신당 사이에 경쟁을 넘어 묘한 긴장 관계가 형성될 수 있다는 시각도 나온다. 텃밭 외 지역에선 국민의미래가 승리한 곳에서 조국혁신당이 더불어민주연합을 앞서는 현상이 두드러졌다. 서울에선 조국혁신당이 2개 지역에서만 더불어민주연합을 앞섰는데, 국민의미래가 압도적 1등을 한 서초와 강남이었다. 조국 대표는 14일 \"원내 제3당의 대표로서 언제, 어떤 형식이건 윤석열 대통령을 만날 수 있길 희망한다\"고 밝혔다. 민주당 이재명 대표에 이어 윤 대통령과의 회담 개최를 압박한'),\n",
       " Document(metadata={'id': '123826025_1', 'title': '\\'이재명-조국 총선연대\\' 사실상 공식화… 여 \"李 방탄막 세우기 몰두\"', 'date': 20240305, 'NER': '조국혁신당 대한민국 민주당 윤석열 윤석열 검찰 조국혁신당 민주당 더불어민주연합 검찰 조기종식 윤석열 대통령 부인 김건희 박정하 수석대변인 자녀 청와대 국회'}, page_content=' 조국혁신당은 현재 대한민국 질곡을 함께 헤쳐 나갈 동지라 생각한다\"고 말했다. 그는 \"민주당은 윤석열 정권에 실망한 중도파와 합리적 보수파까지 끌어와 지역구에서 1대1 구도를 형성해 승리하기 바란다\"며 \"이렇게 협력해야 총선에서 \\'윤석열의 강\\', \\'검찰 독재의 강\\'을 건널 수 있다\"고 말했다. 조국혁신당이 민주당의 비례대표용 위성정당인 \\'더불어민주연합\\'에 합류하지 않더라도 \\'정권 심판론\\'을 부각하며 협력관계를 유지하겠다는 것. 조 대표는 또 \"\\'검찰독재 조기종식\\' \\'(윤석열 대통령 부인) 김건희 씨를 법정으로\\' 등 캠페인을 전개해 범민주진보 유권자들을 모두 투표장으로 나오게 하겠다\"고 했다. 이에 국민의힘 박정하 수석대변인은 \"자녀 입시 비리와 청와대 감찰 무마 등 혐의로 2심에서 징역 2년의 실형을 선고받은 조 대표의 전력은 이 대표와 맞닿아 있다\"며 \"국회가 범죄자 도피처라도 된다고 생각하'),\n",
       " Document(metadata={'id': '125305010_0', 'title': '현충일 추념식서 윤과 악수 나눈 조국…\"민심 받들라 말했다\"', 'date': 20240606, 'NER': '조국 조국혁신당 윤석열 대통령 대통령 2568년 법요식 조국혁신당 추념식 대통령 대통령 자손 윤석열 정부 만대한민국'}, page_content='조국 조국혁신당 대표가 6일 현충일 추념식에서 윤석열 대통령에게 \"민심을 받들라\"는 취지로 말한 것으로 전해졌다. 윤 대통령과 조 대표의 만남은 지난달 15일 \\'불기 2568년 부처님오신날 봉축 법요식\\' 이후 3주 만이다. 조국혁신당에 따르면 조 대표는 이날 국립서울현충원에서 열린 제69회 현충일 추념식에서 윤 대통령과 악수하면서 \"민심을 받드십시오\"라고 말했다. 이에 윤 대통령은 별말 없이 움찔한 것 같다고 조국혁신당은 주장했다. 앞서 조 대표는 이날 오전 메시지를 내고 \"친일(친일), 종일(종일), 숭일(숭일), 부일(부일)하는 모리배·매국노들이 호의호식하고 고위직에 올라 떵떵거리고 사는 일이 없도록 하겠다\"며 \"애국열사와 유공자들이 제대로 대우 받고 그 유족과 자손들이 떳떳하게 사는 나라로 예인하겠다\"고 밝혔다. 그러면서 윤석열 정부를 향해 \"불과 2년 만에 대한민국은 40년, 50년, 6'),\n",
       " Document(metadata={'id': '124944905_0', 'title': '윤-조국, 5년 만에 공식 석상서 조우…악수 나눠', 'date': 20240515, 'NER': '윤석열 대통령 서울 종로구 조계사 부처님오신날 봉축 법요식 조국혁신당 조국 대통령 조 대통령 대통령 검찰총장 대통령민정수석비서관 대통령 국민의힘 추경호 원내대표 더불어민주당 박찬대 원내대표 유인촌 문화체육관광부 장관 정진석 대통령비서실장 정봉오 동아닷컴 기자'}, page_content=\"윤석열 대통령이 15일 서울 종로구 조계사 대웅전 앞마당 특설 법단에서 열린 '불기 2568년 부처님오신날 봉축 법요식'에서 조국혁신당 조국 대표와 만나 악수했다. 이 자리에서 윤 대통령과 조 대표는 특별한 대화를 나누지 않은 것으로 알려졌다. 윤 대통령과 조 대표가 공식 석상에서 만난 건 5년 만이다. 윤 대통령은 2019년 7월 검찰총장으로 임명돼 대통령민정수석비서관이던 조 대표와 차담 자리를 가진 바 있다. 한편, 이날 행사에는 윤 대통령과 조 대표 외에 국민의힘 추경호 원내대표, 더불어민주당 박찬대 원내대표 등이 참석했다. 유인촌 문화체육관광부 장관, 정진석 대통령비서실장 등도 자리했다. 정봉오 동아닷컴 기자 bong087@donga.com\"),\n",
       " Document(metadata={'id': '124815989_1', 'title': '이준석 \"윤은 돈 안 주는 이재명…바뀌겠단 약속은 신년 다이어트 같은 것\"', 'date': 20240507, 'NER': '굴비 대통령 특검법 조국혁신당 조국 한국 일본 조국 한국 일본 윤석열 대통령 대통령 한 한동훈 비상대책위원장 한 위원장 위원장'}, page_content='검을 하면 \\'옛날에 특검 수사를 해봐서 아는데 작정하고 다 뒤지면 굴비 엮듯이 나중에 대통령까지 치는 수단이 될 수 있다\\'는 생각을 할 것\"이라고 말했다. \\'채상병 특검법\\' 처리를 위해 조국혁신당 조국 대표와 공동 기자회견을 진행하는 등 한목소리를 내는 것에 대해서는 \"한국과 일본이 평소에 사이가 나쁘지만 외계인이 쳐들어오면 같이 막아야 한다. 이게 참 아이러니한 것\"이라고 비유했다. 이어 \"저랑 조국 대표 사이에는 정책적인 생각에서 한국과 일본만큼 차이가 있지만 지금 윤석열 대통령의 초식이라고 하는 것은 \\'어나더 레벨\\'\"이라고 덧붙였다. 윤 대통령을 상대로 한 활동에서는 조 대표와도 협력할 수 있다는 취지다. 한동훈 국민의힘 전 비상대책위원장에 대해서는 \"한 전 위원장이 정치권에 나왔을 때 제가 \\'안 긁은 복권\\'이라고 이야기했는데 (총선 때) 긁어서 꽝이 나왔다. 한 전 위원장이 변하지 않는다')]"
      ]
     },
     "execution_count": 71,
     "metadata": {},
     "output_type": "execute_result"
    }
   ],
   "source": [
    "hybrid_search(\"최근 조국혁신당과 윤석열 대통령 사이의 관계를 알아볼 수 있을 만한 기사를 알려줘\")"
   ]
  },
  {
   "cell_type": "code",
   "execution_count": 73,
   "metadata": {},
   "outputs": [
    {
     "data": {
      "text/plain": [
       "[Document(metadata={'id': '125305010_0', 'title': '현충일 추념식서 윤과 악수 나눈 조국…\"민심 받들라 말했다\"', 'date': 20240606, 'NER': '조국 조국혁신당 윤석열 대통령 대통령 2568년 법요식 조국혁신당 추념식 대통령 대통령 자손 윤석열 정부 만대한민국'}, page_content='조국 조국혁신당 대표가 6일 현충일 추념식에서 윤석열 대통령에게 \"민심을 받들라\"는 취지로 말한 것으로 전해졌다. 윤 대통령과 조 대표의 만남은 지난달 15일 \\'불기 2568년 부처님오신날 봉축 법요식\\' 이후 3주 만이다. 조국혁신당에 따르면 조 대표는 이날 국립서울현충원에서 열린 제69회 현충일 추념식에서 윤 대통령과 악수하면서 \"민심을 받드십시오\"라고 말했다. 이에 윤 대통령은 별말 없이 움찔한 것 같다고 조국혁신당은 주장했다. 앞서 조 대표는 이날 오전 메시지를 내고 \"친일(친일), 종일(종일), 숭일(숭일), 부일(부일)하는 모리배·매국노들이 호의호식하고 고위직에 올라 떵떵거리고 사는 일이 없도록 하겠다\"며 \"애국열사와 유공자들이 제대로 대우 받고 그 유족과 자손들이 떳떳하게 사는 나라로 예인하겠다\"고 밝혔다. 그러면서 윤석열 정부를 향해 \"불과 2년 만에 대한민국은 40년, 50년, 6'),\n",
       " Document(metadata={'id': '125225554_0', 'title': '조국당 \"축하난 거부가 옹졸? \\'거부왕\\' 윤이 쫄보\"', 'date': 20240601, 'NER': '조국혁신당 의원 윤석열 대통령 대통령 김보협 수석대변인 앞 수석대변인 용산 대통령 국민의힘 조국혁신당 대통령 정무수석 가족 거부권 윤 대통령 수석대변인 대통령 계란말이 김치찌개 대파'}, page_content='조국혁신당은 자당 의원들이 윤석열 대통령의 당선 축하 난(난)을 거부한 것에 대해 국민의힘이 \\'옹졸한 정치\\'라고 비판하자 \"\\'거부왕\\' 윤 대통령이 옹졸한 정치\"라고 반박했다. 김보협 수석대변인은 1일 논평을 통해 \"의원실 앞에 몰래 난 화분을 놓고 가는 행위를 협치로 보는 국민은 없을 것\"이라고 비판했다. 김 수석대변인은 \"용산 대통령실 혹은 여당인 국민의힘 그 누구라도, 조국혁신당에 만남이나 대화를 제안한 적이 있느냐\"며 \"창당한 지 석 달이 다 돼가는데도 대통령실 정무수석은 코빼기도 보이지 않는다\"고 지적했다. 이어 \"자신과 가족을 위해 거부권을 남발하는 \\'거부왕\\' 윤 대통령만큼 옹졸한 정치를 잘 보여주는 이는 없을 것\"이라고 주장했다. 김 수석대변인은 또 \"(출입기자단 초청) \\'대통령과의 만찬\\' 메뉴였던 계란말이와 김치찌개에 대파가 빠졌다던데, 그런 게 \\'옹졸\\', \\'쫄보\\'의 상징\"이라고 비'),\n",
       " Document(metadata={'id': '125553300_0', 'title': '조국 \"맥베스와 아내의 최후 온다…아무도 윤 구하지 못한다\"', 'date': 20240621, 'NER': '조국 조국혁신당 윤석열 대통령 맥베스 아내 페이스북 용산 국방부 대통령 문재인 대통령 청와대 비서실 윤석열 검찰 특검 대통령 입 윌리엄 세익스피어 맥베스 스코틀랜드 국왕 맥베스 왕'}, page_content='조국 조국혁신당 대표가 21일 윤석열 대통령을 \\'맥베스\\'에 빗대며 \"맥베스와 그 아내의 최후가 오고 있다\"고 저격했다. 조 대표는 이날 페이스북에 \"용산과 국방부가 동시에 난리를 친 이유는 하나밖에 없다\"며 \"모든 의혹은 윤 대통령으로 모이고 있다\"고 적었다. 그는 \"만약 문재인 대통령과 청와대 비서실이 최근 언론에 보도된 것과 같이 집중적 전화질을 했다면 윤석열 검찰은 어떻게 했을까\"라며 \"압수수색, 소환, 구속영장 청구가 줄을 이었을 것\"이라고 했다. 이어 \"특검이 발동됐을 때 어떤 일이 전개될지 알기에 윤 대통령은 안면 몰수하고 결사 방어한다\"며 \"그러나 누군가는 입을 열 것이고, 결국 둑은 무너질 것\"이라고 강조했다. 조 대표는 윌리엄 세익스피어 4대 비극 중 하나인 \\'맥베스\\'를 언급하기도 했다. 작품 속에서 스코틀랜드 국왕 맥베스는 자신이 왕이 될 것이란 예언을 듣고 자신들에게 호의를 '),\n",
       " Document(metadata={'id': '125237924_1', 'title': '이재명 \"국민뜻 어기면 대통령 자리 못지켜\" 여 \"무도한 탄핵 공세\"', 'date': 20240602, 'NER': '대통령 박찬대 원내대표 몸통 대통령 장경태 최고위원 윤석열 서영교 대통령 대통령 조국혁신당 서울 용산 대통령 앞 대통령 이종섭 국방부 장관 조국 대통령 스마트폰 고위공직자범죄수사처 공수처 한동훈 비상대책위원장 조국혁신당 공수처 윤 대통령 장관'}, page_content='도 윤 대통령의 수사외압 의혹을 부각하며 탄핵 군불 떼기에 나섰다. 박찬대 원내대표는 \"모든 정황이 해병대원 순직 사건의 수사외압 몸통으로 윤 대통령을 가리키고 있다\"고 지적했고, 장경태 최고위원은 \"총체적인 윤석열 정권의 국정농단 게이트가 됐다\"고 주장했다. 서영교 최고위원도 \"윤 대통령이 끝내 막다른 골목에 이르렀다\"며 \"대통령이 불법하고 위헌하면 탄핵 대상이라는 법 구절이 있다\"고 했다. 조국혁신당은 이날 별도로 서울 용산 대통령실 앞에서 \\'포위 집회\\'를 열고 윤 대통령과 이종섭 전 국방부 장관의 통화 의혹을 비판했다. 조국 대표는 \"윤 대통령은 개인 스마트폰을 고위공직자범죄수사처(공수처)에 제출하라\"며 \"국민의힘 한동훈 전 비상대책위원장처럼 얍삽하게 스무자리 비밀번호를 만들어놓지 말고, 풀어서 제출하라\"라고 했다. 이와 관련해 조국혁신당은 3일 공수처에 윤 대통령과 이 전 장관을 고발할 '),\n",
       " Document(metadata={'id': '125240733_1', 'title': '이재명 \"민의 어기면 대통령자리 못지켜\"… 여 \"생떼 정치이자 무도한 탄핵공세\"', 'date': 20240603, 'NER': '대통령 박찬대 원내대표 대통령 장경태 최고위원 윤석열 서영교 대통령 대통령 조국혁신당 용산 대통령 앞 대통령 이종섭 국방부 장관 조국 대통령 스마트폰 고위공직자범죄수사처 공수처 한동훈 비상대책위원장 조국혁신당'}, page_content='외투쟁 병행을 예고한 것. 당 지도부도 윤 대통령의 수사 외압 의혹을 부각하며 탄핵 군불 떼기에 나섰다. 박찬대 원내대표는 \"모든 정황이 해병대원 순직 사건의 수사 외압 몸통으로 윤 대통령을 가리키고 있다\"고 지적했고, 장경태 최고위원은 \"총체적인 윤석열 정권의 국정농단 게이트가 됐다\"고 주장했다. 서영교 최고위원도 \"윤 대통령이 끝내 막다른 골목에 이르렀다\"며 \"대통령이 불법하고 위헌하면 탄핵 대상이라는 법 구절이 있다\"고 했다. 조국혁신당은 이날 별도로 용산 대통령실 앞에서 \\'포위 집회\\'를 열고 윤 대통령과 이종섭 전 국방부 장관의 통화 의혹을 비판했다. 조국 대표는 \"윤 대통령은 개인 스마트폰을 고위공직자범죄수사처(공수처)에 제출하라\"며 \"국민의힘 한동훈 전 비상대책위원장처럼 얍삽하게 스무 자리 비밀번호를 만들어 놓지 말고, 풀어서 제출하라\"라고 했다. 이와 관련해 조국혁신당은 3일 공수처')]"
      ]
     },
     "execution_count": 73,
     "metadata": {},
     "output_type": "execute_result"
    }
   ],
   "source": [
    "hybrid_search(\"최근 조국혁신당과 윤석열 대통령 사이의 관계를 알아볼 수 있을 만한 기사를 알려줘\", filter='date >= 20240601')"
   ]
  },
  {
   "cell_type": "markdown",
   "metadata": {},
   "source": [
    "## Comparing With previous version(dense embedding only w/ 800 characters)"
   ]
  },
  {
   "cell_type": "code",
   "execution_count": 75,
   "metadata": {},
   "outputs": [],
   "source": [
    "from openai import OpenAI\n",
    "import numpy as np\n",
    "\n",
    "INDEX_PARAMS = {\n",
    "    'metric_type': 'COSINE',     # \"L2\", \"IP\", \"COSINE\" \n",
    "    'index_type': \"IVF_FLAT\",    # \"IVF_FLAT\",\"IVF_SQ8\", \"IVF_PQ\", \"HNSW\", \"ANNOY\"\n",
    "    'params': {\"nlist\": 128},\n",
    "}\n",
    "\n",
    "client = OpenAI(\n",
    "    api_key = os.getenv(\"UPSTAGE_API_KEY\"),\n",
    "    base_url = \"https://api.upstage.ai/v1/solar\"\n",
    ")\n",
    "\n",
    "def vector_search(collection, query, index_params, option=None):\n",
    "    # Query embedding 생성\n",
    "    query_embedding = client.embeddings.create(\n",
    "        model=\"solar-embedding-1-large-query\",\n",
    "        input=query\n",
    "    ).data[0].embedding\n",
    "    query_embedding = np.asarray(query_embedding)\n",
    "    \n",
    "    # 공통 search 파라미터 설정\n",
    "    search_params = {\n",
    "        \"data\": [query_embedding],\n",
    "        \"anns_field\": 'embedding',\n",
    "        \"param\": index_params,\n",
    "        \"limit\": 5,\n",
    "        \"output_fields\": ['title', 'date', 'content', 'link']\n",
    "    }\n",
    "\n",
    "    # 옵션이 있는 경우 expr 추가\n",
    "    if option:\n",
    "        search_params[\"expr\"] = option\n",
    "\n",
    "    # 검색 실행\n",
    "    result = collection.search(**search_params)\n",
    "\n",
    "    # 결과 처리\n",
    "    result_list = []\n",
    "    for hits in result:\n",
    "        for hit in hits:\n",
    "            result_list.append(hit.to_dict())\n",
    "    \n",
    "    return result_list"
   ]
  },
  {
   "cell_type": "code",
   "execution_count": 76,
   "metadata": {},
   "outputs": [
    {
     "data": {
      "text/plain": [
       "[{'id': 451472232637362863,\n",
       "  'distance': 0.49557554721832275,\n",
       "  'entity': {'title': '조국당 “축하난 거부가 옹졸? ‘거부왕’ 尹이 쫄보”',\n",
       "   'date': 20240601,\n",
       "   'content': '조국혁신당은 자당 의원들이 윤석열 대통령의 당선 축하 난을 거부한 것에 대해 국민의힘이 옹졸한 정치라고 비판하자 거부왕 윤 대통령이 옹졸한 정치라고 반박했다. 김보협 수석대변인은 1일 논평을 통해 의원실 앞에 몰래 난 화분을 놓고 가는 행위를 협치로 보는 국민은 없을 것이라고 비판했다. 김 수석대변인은 용산 대통령실 혹은 여당인 국민의힘 그 누구라도 조국혁신당에 만남이나 대화를 제안한 적이 있느냐며 창당한 지 석 달이 다 돼가는데도 대통령실 정무수석은 코빼기도 보이지 않는다고 지적했다. 이어 자신과 가족을 위해 거부권을 남발하는 거부왕 윤 대통령만큼 옹졸한 정치를 잘 보여주는 이는 없을 것이라고 주장했다. 김 수석대변인은 또 출입기자단 초청 대통령과의 만찬 메뉴였던 계란말이와 김치찌개에 대파가 빠졌다던데 그런 게 옹졸 쫄보의 상징이라고 비꼬았다. 조국혁신당 조국 대표는 지난달 31일 페이스북에 윤 대통령의 축하 난 사진과 함께 역대 유례없이 사익을 위하여 거부권을 오남용하는 대통령의 축하 난은 정중히 사양한다고 썼다. 윤 대통령은 지난달 30일 22대 국회 당선인 300명 전원에게 국회의원 당선을 축하합니다. 대통령 윤석열이라고 적힌 리본이 달린 난을 보냈다. 문재인 정부 국립외교원장 출신인 김준형 의원은 불통령불통대통령의 합성어의 난을 버린다고 인증했다. 김 의원은 버립니다라고 적힌 메모지를 부착한 축하 난 사진도 함께 올렸다. 같은 당 차규근 의원은 리본 가운데 대통령 윤석열이라고 적힌 부분을 가위로 잘라낸 사진을 자신의 페이스북에 올렸다. 당론 1호 법안인 한동훈 특검법을 대표 발의한 박은정 의원은 잘 ',\n",
       "   'link': 'https://www.donga.com/news/Politics/article/all/20240601/125225554/2'}},\n",
       " {'id': 451472232637370339,\n",
       "  'distance': 0.4667755365371704,\n",
       "  'entity': {'title': '조국 “맥베스와 아내의 최후 온다…아무도 尹 구하지 못한다”',\n",
       "   'date': 20240621,\n",
       "   'content': '조국 조국혁신당 대표가 21일 윤석열 대통령을 맥베스에 빗대며 맥베스와 그 아내의 최후가 오고 있다고 저격했다. 조 대표는 이날 페이스북에 용산과 국방부가 동시에 난리를 친 이유는 하나밖에 없다며 모든 의혹은 윤 대통령으로 모이고 있다고 적었다. 그는 만약 문재인 대통령과 청와대 비서실이 최근 언론에 보도된 것과 같이 집중적 전화질을 했다면 윤석열 검찰은 어떻게 했을까라며 압수수색 소환 구속영장 청구가 줄을 이었을 것이라고 했다. 이어 특검이 발동됐을 때 어떤 일이 전개될지 알기에 윤 대통령은 안면 몰수하고 결사 방어한다며 그러나 누군가는 입을 열 것이고 결국 둑은 무너질 것이라고 강조했다. 조 대표는 윌리엄 세익스피어 4대 비극 중 하나인 맥베스를 언급하기도 했다. 작품 속에서 스코틀랜드 국왕 맥베스는 자신이 왕이 될 것이란 예언을 듣고 자신들에게 호의를 베푼 왕을 살해하고 왕위를 찬탈한 뒤 종국에 파멸에 이른다. 조 대표는 천공도 윤 대통령의 손바닥에 왕자를 그려준 용한 사람도 그를 구해주지 못한다며 왕이 될 것이라는 세 명의 마녀의 예언을 듣고 던킨 왕을 살해하고 왕위를 박탈한 맥베스와 그 아내의 최후의 날이 오고 있다고 했다. 그는 2021년 7월에도 윤 대통령을 맥베스에 빗대어 저격했다. 당시 조 대표는 윤 대통령을 직접적으로 언급하지는 않았다. 하지만 권력욕에 휩싸인 이 두 부부는 점점 광기에 휩싸인다. 맥베스 부부의 최후? 굳이 적지 않겠다고 한 바 있다. 한편 채상병 특검법 입법을 두고 법사위는 이날 오전 10시부터 청문회를 진행 중이다. 이날 청문회에서는 이종섭 전 국방 부장관과 신범철 전 차',\n",
       "   'link': 'https://www.donga.com/news/Politics/article/all/20240621/125553300/2'}},\n",
       " {'id': 451472232637362869,\n",
       "  'distance': 0.4667009115219116,\n",
       "  'entity': {'title': '민주·조국당, ‘특검’ 주말 장외집회…與 “민생 외면 ‘생떼 정치’”',\n",
       "   'date': 20240601,\n",
       "   'content': '더불어민주당과 조국혁신당 등 야당이 1일 윤석열 대통령의 해병대원 특검법 거부권 행사에 반발하며 서울 도심에서 규탄대회를 열었다. 민주당은 이날 오후 3시 서울 중구 서울역에서 윤석열 정권 규탄 및 해병대원 특검법 관철을 위한 범국민대회를 진행했다. 이 대표는 투표로 심판했음에도 승복하지 못한다면 이제 국민들이 힘으로 그 책임을 물어야 한다며 권력은 대통령의 사적 이익을 위해서가 아니라 오로지 국민들만을 위해 존재하는 공적 권한이다고 주장했다. 그는 집권여당과 대통령은 자신들이 동의하지 않은 모든 법안을 거부했다며 당연히 해야 할 특검을 거부한 정부 여당에 맞서 이제 국회 제도내에서 만으론 싸우기 힘들다고 말했다. 이어 대한민국 국민으로부터 위임받은 권력을 국민을 위해서가 아니라 사적 남용하며 국민을 능멸하며 이 나라의 미래를 해치는 데 사용한다면 그에 대한 엄중한 책임을 국민이 물어야 한다며 이제 이 나라의 권력의 주체이자 주인인 국민들이 직접 나서야 한다고 강조했다. 조국혁신당은 이날 오후 용산 대통령실 앞에서 규탄대회를 열고 윤석열 대통령을 향해 22대 국회에서 새롭게 발의할 두 번째 해병대원 특검법 수용을 촉구했다. 조 대표는 지난주 시민사회와 정당들 전국에서 모여든 국민들이 여당에 해병대원 특검법에 대해 국회에서 재의결을 요구했다며 그랬더니 무슨 일이 일어났냐. 국민의힘은 똘똘 뭉쳐서 국민의 요구를 내팽개쳤다고 말했다. 조 대표는 윤 대통령에게 특검법 수용을 위해 3가지가 필요하다고 강조했다. 조 대표는 첫째 공수처 수사를 겸허히 받아라며 두 번째 이종섭 전 국방부장관의 통화 내역이 밝혀진 개인 스마',\n",
       "   'link': 'https://www.donga.com/news/Politics/article/all/20240601/125225109/2'}},\n",
       " {'id': 451472232637363209,\n",
       "  'distance': 0.4454987347126007,\n",
       "  'entity': {'title': '이재명 “국민뜻 어기면 대통령 자리 못지켜” 與 “무도한 탄핵 공세”',\n",
       "   'date': 20240602,\n",
       "   'content': '더불어민주당이 2주 연속 채 상병 특검법 재추진을 위한 장외 집회를 벌이며 윤석열 대통령을 정조준했다. 이재명 대표는 이 자리에서 국민의 뜻을 따르지 않으면 대통령 자리를 지킬 수 없다는 걸 증명해야 하지 않겠나라며 탄핵 가능성을 처음으로 시사했다. 이에 국민의힘은 선동을 위한 생떼 정치이자 무도한 탄핵 공세라고 맞섰다. 민주당은 1일 오후 서울역 앞에서 윤석열 정권 규탄 및 해병대원 특검법 관철을 위한 범국민대회를 열고 윤 대통령을 겨냥한 공세 수위를 높였다. 이 대표는 410 총선에서 정부여당을 투표로 심판했음에도 승복하지 못한다면 이제 국민들의 힘으로 책임을 물어야 한다며고 했다. 이어 국회에서 일하려고 하지만 대통령이 모든 걸 거부한다며 이제 국회와 제도 내에서만 싸우기 힘들다. 안에서 밖에서 함께 싸우겠다고 했다. 장외투쟁 병행을 예고한 것. 당 지도부도 윤 대통령의 수사외압 의혹을 부각하며 탄핵 군불 떼기에 나섰다. 박찬대 원내대표는 모든 정황이 해병대원 순직 사건의 수사외압 몸통으로 윤 대통령을 가리키고 있다고 지적했고 장경태 최고위원은 총체적인 윤석열 정권의 국정농단 게이트가 됐다고 주장했다. 서영교 최고위원도 윤 대통령이 끝내 막다른 골목에 이르렀다며 대통령이 불법하고 위헌하면 탄핵 대상이라는 법 구절이 있다고 했다. 조국혁신당은 이날 별도로 서울 용산 대통령실 앞에서 포위 집회를 열고 윤 대통령과 이종섭 전 국방부 장관의 통화 의혹을 비판했다. 조국 대표는 윤 대통령은 개인 스마트폰을 고위공직자범죄수사처공수처에 제출하라며 국민의힘 한동훈 전 비상대책위원장처럼 얍삽하게 스무자리 비밀번호를 만들',\n",
       "   'link': 'https://www.donga.com/news/Politics/article/all/20240602/125237924/1'}},\n",
       " {'id': 451472232637371291,\n",
       "  'distance': 0.4397070109844208,\n",
       "  'entity': {'title': '한동훈 “합리적 대안 제시한 것” 나경원 “韓특검법도 받을건가”',\n",
       "   'date': 20240625,\n",
       "   'content': '채 상병 특검법 놓고 연일 충돌 윤상현 대통령 탈당 원하는것 국민의힘 723 전당대회 당권주자들이 24일 채 상병 특검법을 둘러싼 충돌을 이어갔다. 한동훈 전 비상대책위원장이 제3자가 특검을 추천하는 채 상병 특검법 추진 의사를 재확인하자 다른 당권주자들은 한동훈 특검법도 받을 것이냐고 반박했다. 한 전 위원장은 이날 오전 국회에서 기자들과 만나 설득력 있고 합리적인 대안을 제시하는 것이 윤석열 정부와 국민의힘을 진정으로 살리고 지키는 일이라며 대안 제시 없이 논란을 종결시킬 수 있다고 생각하는 것이 오히려 순진한 발상이라고 말했다. 전날 경쟁자인 나경원 의원이 자신을 향해 순진한 발상이라고 한 것을 맞받아친 것이다. 다만 한 전 위원장은 선수민주당가 심판특검을 고르는 민주당 법안은 통과되면 안 된다며 민주당이 추진 중인 특검법이 통과될 경우 윤석열 대통령이 재의요구권거부권을 행사해야 한다고 말했다. 다른 당권주자들은 대통령과 각을 세우려는 의도라며 반발했다. 나 의원은 한동훈 특검법도 야당이 발의했는데 찬성 여론이 높으면 특검을 하겠느냐고 말했다. 윤상현 의원도 대통령의 탈당을 원하는 것이라며 한동훈 특검법에 대해서는 국민적 의혹이 없느냐고 반문했다. 한동훈 특검법은 지난달 31일 조국혁신당 박은정 의원이 한 전 위원장 검사장관 재직 시 자녀 대필과 같은 가족 비위 의혹 등 진상 규명을 위한 특별검사 임명 법안이다. 친윤 진영에선 한 전 장관을 향해 용산을 협박한다는 비판도 나왔다. 윤 대통령 부인 김건희 여사 특검법도 쟁점이 됐다. 원 전 장관은 이날 초선 모임에서 김 여사 사건을 지난 2년간 검찰이 수사',\n",
       "   'link': 'https://www.donga.com/news/Politics/article/all/20240625/125598404/2'}}]"
      ]
     },
     "execution_count": 76,
     "metadata": {},
     "output_type": "execute_result"
    }
   ],
   "source": [
    "vector_search(donga_800, \"최근 조국혁신당과 윤석열 대통령 사이의 관계를 알아볼 수 있을 만한 기사를 알려줘\", INDEX_PARAMS)"
   ]
  },
  {
   "cell_type": "code",
   "execution_count": 77,
   "metadata": {},
   "outputs": [
    {
     "data": {
      "text/plain": [
       "[{'id': 451472232637377869,\n",
       "  'distance': 0.5360703468322754,\n",
       "  'entity': {'content': '도이치모터스 주가 조작 사건으로 재판을 받고 있는 이모 씨블랙펄인베스트먼트 전 대표가 임성근 전 해병대1사단장의 구명 로비 의혹에 대해 녹취록을 제보한 변호사가 의도를 가지고 내용을 퍼뜨린 것이라고 일축했다. 이 씨는 변호사가 공개한 녹취록에 담긴 도 윤석열 대통령이 아닌 김계환 해병대 사령관이라는 입장이다. 이 씨는 10일 동아일보 기자와 만나 녹취록의 언급이 마치 제가 한 이야기처럼 보도가 됐는데 같은 카카오톡 단체 채팅방에 있던 멤버 씨와 통화한 것을 변호사에게 전달해 말한 것 뿐이라고 말했다. 채 상병 순직 수사 외압 의혹을 수사 중인 고위공직자범죄수사처공수처는 이 씨가 임성근 전 해병대 1사단장을 구명했다고 주변에 자랑했다는 취지의 진술과 전화 녹음 파일을 확보한 것으로 알려졌다. 동아일보가 확보한 변호사와 이 씨의 통화 녹음파일에 따르면 이 씨는 임 전 사단장이 사표를 낸다고 그래 가지고 씨가 전화 왔더라고. 그래 가지고 내가 절대 사표 내지 마라 내가 한테 얘기를 하겠다라고 말했다. 변호사가 올해 3월 통화에서도 임 전 사단장이 채 상병 순직 사건에 책임이 있는 것 같다고 하자 이 씨는 그러니까 쓸데없이 내가 거기 개입이 돼 가지고 사표 낸다고 그럴 때 내라 그럴걸이라고 말한 것으로 확인됐다. 이에 대해 이 씨는 이날 동아일보에 채상병 사건이 일어나고 해병대 후배인 씨가 임 전 사단장이 힘들어 한다. 극단 선택할 것 같다. 나쁜 생각 말라고 이렇게 보냈는데 한 번 봐주시라며 메시지를 보내왔다며 녹취록에 언급된 상황에 대해 설명했다. 씨는 이 씨와 변호사가 함께 있는 카카오톡 단체 대화방의 멤버로 ',\n",
       "   'link': 'https://www.donga.com/news/Politics/article/all/20240710/125864805/1',\n",
       "   'title': '[단독]‘도이치’ 이모 씨 “‘VIP’는 대통령 아닌 김계환, 김여사 번호도 몰라”…구명 로비 의혹 부인',\n",
       "   'date': 20240710}},\n",
       " {'id': 451472232637377741,\n",
       "  'distance': 0.5109129548072815,\n",
       "  'entity': {'content': '임 사단장임성근 전 해병대 1사단장이 사표를 낸다고 씨대통령경호처 근무한테 전화 왔더라고. 내가 절대 사표 내지 마라 내가 한테 얘기를 하겠다. 도이치모터스 주가 조작 사건의 컨트롤타워로 지목된 이모 씨전 블랙펄인베스트먼트 대표는 지난해 8월 9일 변호사 씨와의 통화에서 이렇게 말했다. 씨가 해병대 채모 상병 순직 사건과 관련해 그 사단장임 전 사단장 난리 났대요라고 하자 마치 자신이 대통령을 접촉해 임 전 사단장을 구명할 수 있는 것처럼 해석될 수 있는 말을 한 것이다. 당시는 해병대 수사단이 임 전 사단장을 혐의자로 특정하고 경찰에 이첩하자 국방부가 이를 회수해오면서 외압 논란이 불거지던 시점이었다. 한테 얘기할 테니 사표내지 마라 씨는 최근 고위공직자범죄수사처공수처에 참고인 조사를 받으며 이 씨의 말이 녹음된 통화 녹음파일을 제출했다. 이 씨와 씨 모두 해병대 출신으로 임 전 사단장과의 해병대 출신 골프모임을 추진하던 카카오톡방 멤버였다. 10일 동아일보가 확보한 통화 녹음파일에 따르면 이임 전 사단장 사표낸다고 그래 가지고 내가 못하게 했거든이라며 내가 한테 얘기할테니까 사표내지 마라. 왜냐하면 아마 내년 쯤에 발표할 거거든. 해병대 별 4개 만들거거든이라며 원래 그거 임 전 사단장을 별 3개로 달아주려고 했던 거잖아라고도 했다. 이 씨는 올해 3월 4일 통화에선 씨가 임 전 사단장이 법적인 걸 떠나서 도의적으로라도 물러났었어야죠라고 하자 그러니까 쓸데없이 내가 거기 개입이 돼가지고 사표 낸다고 그럴 때 내라 그럴 걸이라는 말도 했다. 김건희 여사가 연루 의혹을 받는 도이치모터스 주가 조작 사건 1심에',\n",
       "   'link': 'https://www.donga.com/news/Society/article/all/20240710/125873273/1',\n",
       "   'title': '공수처, ‘VIP 발언’ 실체 ‘임성근 구명’ 사실관계 파악 나서',\n",
       "   'date': 20240710}},\n",
       " {'id': 451472232637380039,\n",
       "  'distance': 0.5068235993385315,\n",
       "  'entity': {'content': '임성근 전 해병대 1사단장의 구명 로비 의혹에 연루된 인물들 간의 친분을 보여주는 정황들이 속속 드러나고 있다. 동아일보 취재 결과 고위공직자범죄수사처는 2022년 5월 임 전 사단장이 대통령경호처 출신 송모 씨에게서 해병대 골프장을 예약해 달라는 부탁을 받은 뒤 다음 달 본인 이름으로 예약한 내역을 송 씨에게 보낸 사실을 파악했다. 공수처는 이들이 실제 골프를 쳤는지 추가로 골프 모임이 있었는지 파악하기 위해 골프장 출입기록 등을 확인 중이다. 송 씨는 블랙펄인베스트먼트 전 대표 이모 씨 변호사 씨 등 해병대 출신들과 함께 지난해 5월경 카카오톡 대화방을 만들어 임 전 사단장과의 골프 모임을 추진했던 인물이다. 임 전 사단장은 2008년 청와대에 파견 근무하면서 송 씨를 알게 됐다고 한다. 이 씨는 도이치모터스 주가조작 사건 당시 김건희 여사 명의의 계좌를 운용한 것으로 알려졌고 씨는 지난 총선에서 더불어민주당 후보 경선에 출마한 뒤 현재는 박정훈 전 해병대 수사단장 변호를 맡고 있다. 이 모임은 성사되지 않았지만 대화방 멤버들이 임 전 사단장 구명과 관련해 나눈 대화가 녹음돼 공개되면서 로비 의혹이 제기된 상황이다. 녹음 내용 중 먼저 주목받은 것은 지난해 8월 이 씨가 씨와의 통화에서 송 씨에게서 임 전 사단장이 사표 낸다는 소식을 들었다면서 내가 한테 얘기를 하겠다고 했다고 말한 부분이다. 그런데 임 전 사단장과 이 씨는 서로 모르는 사이라고 주장한다. 사실이라면 임 전 사단장에 대한 구명 로비가 이뤄졌을 경우 송 씨가 중간 다리 역할을 했을 가능성을 배제할 수 없다. 임 전 사단장은 채모 상병이 순직',\n",
       "   'link': 'https://www.donga.com/news/Opinion/article/all/20240715/125947711/2',\n",
       "   'title': '[사설]‘도이치 공범’에 경호처까지… 임성근 둘러싸고 대체 뭔 일이',\n",
       "   'date': 20240715}},\n",
       " {'id': 451472232637377299,\n",
       "  'distance': 0.5013388991355896,\n",
       "  'entity': {'content': '대통령실에 실제 전달 여부 등 수사 임씨 청문회때 모르는 사람 주장 도이치모터스 주가 조작 사건의 공범 이모 씨가 임성근 전 해병대 1사단장을 구명했다고 주변에 자랑했다는 취지의 진술과 녹음파일을 고위공직자범죄수사처공수처가 확보한 것으로 알려졌다. 해병대 채모 상병 순직 사건 외압 의혹을 수사 중인 공수처는 이 씨가 임 전 사단장의 구명 활동을 실제로 벌였는지 등을 확인하고 있다. 9일 동아일보 취재를 종합하면 공수처는 최근 이 씨의 지인인 변호사 씨를 참고인 신분으로 불러 조사하면서 지난해 78월 이 씨가 통화 중 를 통해 임 전 사단장을 구명했다고 자랑 삼아 얘기했다는 취지의 진술을 확보한 것으로 전해졌다. 당시는 해병대 수사단과 국방부가 채 상병 순직과 관련해 임 전 사단장을 조사하던 시점이었다. 씨는 이 씨와의 통화 녹음파일도 제출한 것으로 알려졌다. 파일에서 이 씨는 임 전 사단장이 사표를 낸다고 해 내가 한테 얘기를 할 테니 사표 내지 말라고 했다 내년쯤 임 전 사단장을 해병대 별 4개로 만들 것 등의 말을 했다고 한다. 또 이 씨는 쓸데없이 내가 거기 개입이 돼 가지고. 임 전 사단장이 사표 낸다고 그럴 때 내라 그럴 걸이란 말도 한 것으로 전해졌다. 이 씨는 윤석열 대통령의 부인 김건희 여사가 연루 의혹을 받고 있는 도이치모터스 주가 조작 사건의 컨트롤타워로 지목된 인물이다. 임 전 사단장과 해병대 출신들의 골프 모임을 주선하던 카카오톡방에 이 씨가 참여한 사실이 알려지면서 야권은 이 씨가 임 전 사단장과 김 여사의 매개 역할을 한 것 아니냐는 의혹을 제기하고 있다. 임 전 사단장은 국회 청문회',\n",
       "   'link': 'https://www.donga.com/news/Society/article/all/20240710/125853053/2',\n",
       "   'title': '[단독]공수처 “도이치 공범, ‘VIP 통해 임성근 구명’ 자랑” 지인 진술 확보',\n",
       "   'date': 20240710}},\n",
       " {'id': 451472232637377485,\n",
       "  'distance': 0.5010684728622437,\n",
       "  'entity': {'content': '도이치모터스 주가 조작 사건의 공범 이모 씨가 임성근 전 해병대 1사단장을 구명했다고 주변에 자랑했다는 취지의 진술과 전화 녹음 파일을 고위공직자범죄수사처공수처가 확보한 것으로 알려졌다. 해병대 채모 상병 순직 사건 외압 의혹을 수사 중인 공수처는 이 씨가 임 전 사단장의 구명 로비를 실제 벌였는지 확인하기 위해 수사에 착수했다. 9일 동아일보 취재를 종합하면 공수처는 최근 이 씨의 지인인 씨를 참고인 신분으로 불러 조사하면서 지난해 7~8월 이 씨가 를 통해 임 전 사단장을 구명했다고 자랑삼아 얘기하는 걸 들었다는 취지의 진술을 확보한 것으로 전해졌다. 당시는 해병대 수사단이 채 상병 순직 사건을 조사해 임 전 사단장 등에 혐의가 있다고 경찰에 이첩했다가 국방부가 사건을 회수해오던 시점이었다. 씨는 자신의 진술을 뒷받침하는 전화 녹음 파일도 제출한 것으로 알려졌다. 이 씨는 윤석열 대통령의 부인 김건희 여사가 연루 의혹을 받고 있는 도이치모터스 주가 조작 사건의 컨트롤타워로 지목된 인물이다. 임 전 사단장과 해병대 출신들의 골프 모임을 주선하던 카카오톡방에 이 씨가 참여했던 것이 최근 알려지면서 야권은 이 씨가 임 전 사단장과 김 여사의 매개 역할을 한 것 아니냐는 의혹을 제기하고 있다. 그러나 임 전 사단장은 지난달 21일 야당이 단독으로 연 국회 청문회에 나와 골프를 친 적도 없고 이 씨는 전혀 모른다고 반박한 바 있다. 동아일보는 임 전 사단장과 이 씨에게 수차례 연락했으나 닿지 않았다. 공수처는 씨의 진술을 토대로 임 전 사단장이 이 씨를 통해 자신의 구명을 대통령실 등에 전달했는지와 해병대 수사단 ',\n",
       "   'link': 'https://www.donga.com/news/Society/article/all/20240709/125847496/1',\n",
       "   'title': '[단독]공수처 “도이치 공범, ‘VIP 통해 임성근 구명’ 자랑” 지인 진술 확보',\n",
       "   'date': 20240709}}]"
      ]
     },
     "execution_count": 77,
     "metadata": {},
     "output_type": "execute_result"
    }
   ],
   "source": [
    "vector_search(donga_800, \"임성근 전 해병대 1사단장과 관련된 이슈를 다룬 기사를 알고 싶어.\", INDEX_PARAMS)"
   ]
  },
  {
   "cell_type": "code",
   "execution_count": 78,
   "metadata": {},
   "outputs": [
    {
     "data": {
      "text/plain": [
       "[Document(metadata={'id': '125864805_0', 'title': '[단독]\\'도이치\\' 이모 씨 \"\\'VIP\\'는 대통령 아닌 김계환, 김여사 번호도 몰라\"…구명 로비 의혹 부인', 'date': 20240710, 'NER': '도이치모터스 이모 블랙펄인베스트먼트 임성근 해병대1사단장 변호사 변호사 윤석열 대통령 김계환 해병대 사령관 동아일보 기자 카카오톡 변호사 상병 고위공직자범죄수사처 공수처 임성근 해병대 1사단장 동아일보 변호사'}, page_content='도이치모터스 주가 조작 사건으로 재판을 받고 있는 이모 씨(블랙펄인베스트먼트 전 대표)가 임성근 전 해병대1사단장의 \\'구명 로비 의혹\\'에 대해 \"녹취록을 제보한 A 변호사가 의도를 가지고 내용을 퍼뜨린 것\"이라고 일축했다. 이 씨는 A 변호사가 공개한 녹취록에 담긴 \\'VIP\\'도 윤석열 대통령이 아닌 김계환 해병대 사령관이라는 입장이다. 이 씨는 10일 동아일보 기자와 만나 \"(녹취록의 \\'VIP\\' 언급이) 마치 제가 한 이야기처럼 보도가 됐는데 같은 (카카오톡 단체 채팅)방에 있던 멤버 B 씨와 통화한 것을 A 변호사에게 전달해 말한 것 뿐\"이라고 말했다. 채 상병 순직 수사 외압 의혹을 수사 중인 고위공직자범죄수사처(공수처)는 이 씨가 \"임성근 전 해병대 1사단장을 구명했다\"고 주변에 자랑했다는 취지의 진술과 전화 녹음 파일을 확보한 것으로 알려졌다. 동아일보가 확보한 A 변호사와 이 씨의 통화'),\n",
       " Document(metadata={'id': '126061649_0', 'title': '[단독]임성근, 청문회 증언 이튿날 국회에 \\'증언 정정\\' 진술서 제출… \"확인 결과 송씨 등 6명 추가 초청 지시\"', 'date': 20240723, 'NER': '국회 공수처 임성근 해병대 1사단장 대통령경호처 국회 국회 동아일보 사단장 해병대 국회 해병대 해병대 상병 사단장 사단장 골프 카카오톡 국회 법제사법위원회 윤석열 대통령 더불어민주당 장경태 의원 사단장 해병대 1사단'}, page_content='국회에 \\'증언 정정\\' 진술서 제출 공수처, 송씨 참고인 신분 조사 임성근 전 해병대 1사단장(사진)이 대통령경호처 출신 송모 씨를 부대로 초청한 적이 있다는 진술서를 국회에 제출한 것으로 확인됐다. 국회 청문회에 증인으로 출석해 \"개인적으로 초대한 적 없다\"고 말한 지 하루 만이다. 22일 동아일보 취재를 종합하면 임 전 사단장은 지난해 해병대 훈련 참관에 송 씨를 직접 초청한 적이 있다는 취지의 진술서를 20일 국회에 제출했다. 해병대 출신인 송 씨는 해병대 채모 상병 순직 관련 임 전 사단장의 구명 로비 의혹에서 \\'로비 창구\\'로 지목된 인물로, 임 전 사단장과의 골프 모임을 추진한 카카오톡 대화방 멤버였다. 19일 국회 법제사법위원회에서 열린 \\'윤석열 대통령 탄핵소추안 즉각 발의 요청에 관한 청원 청문회\\'에서 더불어민주당 장경태 의원은 임 전 사단장에게 \"2023년 3월 (해병대 1사단에서 '),\n",
       " Document(metadata={'id': '125642100_0', 'title': '\"임성근, 혐의자서 제외\"…국방부 법무관실 의견 제시', 'date': 20240626, 'NER': '국방부 해병대 국방부 임성근 해병대 1사단장 박정훈 해병대 수사단장 대령 중앙군사법원 임성근 1사단장 경찰 국방부 경찰 사단장 사단장 대대장 경찰'}, page_content='국방부 법무관리관실이 지난해 8월 해병대 채모 상병 순직 사건을 재검토하던 국방부 조사본부에 \"임성근 전 해병대 1사단장을 혐의자에서 제외해야 한다\"는 의견을 제시한 것으로 드러났다. 26일 박정훈 전 해병대 수사단장(대령) 측이 중앙군사법원 재판에서 확보한 법무관리관실의 \\'변사사건 의견 요청 회신\\' 문건에 따르면 지난해 8월 14일 법무관리관실은 \"임성근 1사단장의 경우 수색작전 관련 안전통제 대책을 제대로 강구하지 않는 등의 과실이 있으나, 사망과의 인과관계는 명확하지 않아 경찰에서 추가 검토가 필요하다\"고 밝혔다. 국방부가 경찰로 사건을 이첩할 때 임 전 사단장을 인지통보서에 혐의자로 적시하지 말아야 한다는 의견을 제시한 것이다. 이후 조사본부는 임 전 사단장을 혐의자에서 제외하고 대대장 2명에게만 혐의를 적시해 경찰로 사건을 넘겼다. 법무관리실의 이같은 의견은 같은 날 조사본부가 법무관리'),\n",
       " Document(metadata={'id': '125642160_0', 'title': '국방부 법무관실 \"임성근, 혐의자서 제외\" 의견냈다', 'date': 20240627, 'NER': '공수처 국방부 해병대 상병 국방부 임성근 해병대 1사단장 박정훈 해병대 수사단장 대령 중앙군사법원 임성근 1사단장 경찰 국방부 경찰 사단장 사단장 대대장 경찰'}, page_content='작년 \\'채 상병\\' 재검토 문건에 담겨 공수처, 수사 가이드라인으로 판단 국방부 법무관리관실이 지난해 8월 해병대 채모 상병 순직 사건을 재검토하던 국방부 조사본부에 \"임성근 전 해병대 1사단장을 혐의자에서 제외해야 한다\"는 의견을 제시한 것으로 드러났다. 26일 박정훈 전 해병대 수사단장(대령) 측이 중앙군사법원 재판에서 확보한 법무관리관실의 \\'변사사건 의견 요청 회신\\' 문건에 따르면 지난해 8월 14일 법무관리관실은 \"임성근 1사단장의 경우 수색작전 관련 안전통제 대책을 제대로 강구하지 않는 등의 과실이 있으나, 사망과의 인과관계는 명확하지 않아 경찰에서 추가 검토가 필요하다\"고 밝혔다. 국방부가 경찰로 사건을 이첩할 때 임 전 사단장을 인지통보서에 혐의자로 적시하지 말아야 한다는 의견을 제시한 것이다. 이후 조사본부는 임 전 사단장을 혐의자에서 제외하고 대대장 2명의 혐의만 적시해 경찰로 사'),\n",
       " Document(metadata={'id': '125928052_0', 'title': \"[단독]군법원, 임성근 등 '채 상병 사건' 2명 통화조회 허가\", 'date': 20240715, 'NER': '박정훈 임성근 군법원 검찰 경호처 구명 김용현 공수처 해병대 채 상병 박정훈 해병대 수사단장 대령 인군사법원 임성근 해병대 1사단장 해병대 대령 군사법원 검찰 동아일보 중앙지역군사법원 사단장 비서관 김동혁 검찰단장 해병대 대령 상병 사단장 대령 단장 군사법원'}, page_content='박정훈측 \"임성근 구명, 규명 돼야\" 군법원, 검찰측 반대에도 조회 허용 경호처 출신, 구명 핵심 \"김용현이래\" 공수처, 녹음파일 확보-분석 나서 해병대 채모 상병 순직 사건과 관련해 박정훈 전 해병대 수사단장(대령)의 항명 사건 재판을 진행 중인 군사법원이 임성근 전 해병대 1사단장, 해병대 김모 대령 등 핵심 관계자 2명의 휴대전화 통신기록 조회를 허가한 것으로 파악됐다. ● 군사법원, 군 검찰 반대에도 수용 14일 동아일보 취재를 종합하면 중앙지역군사법원은 최근 임 전 사단장과 이 전 비서관, 김동혁 군 검찰단장, 해병대 김모 대령(채 상병 사건 당시 국가안보실 파견근무) 등 4명에 대한 \\'통신기록 사실조회\\'신청을 받고 임 전 사단장과 김 대령 2명의 통신기록 조회를 허가한 것으로 전해졌다. 박 전 단장 측은 지난달 군사법원에 이들 4명의 지난해 7월 19일부터 9월 2일까지 45일여간의 ')]"
      ]
     },
     "execution_count": 78,
     "metadata": {},
     "output_type": "execute_result"
    }
   ],
   "source": [
    "hybrid_search(\"임성근 전 해병대 1사단장과 관련된 이슈를 다룬 기사를 알고 싶어.\", filter='date >= 20240601')"
   ]
  }
 ],
 "metadata": {
  "kernelspec": {
   "display_name": "milvus_hybrid",
   "language": "python",
   "name": "python3"
  },
  "language_info": {
   "codemirror_mode": {
    "name": "ipython",
    "version": 3
   },
   "file_extension": ".py",
   "mimetype": "text/x-python",
   "name": "python",
   "nbconvert_exporter": "python",
   "pygments_lexer": "ipython3",
   "version": "3.10.14"
  }
 },
 "nbformat": 4,
 "nbformat_minor": 2
}
