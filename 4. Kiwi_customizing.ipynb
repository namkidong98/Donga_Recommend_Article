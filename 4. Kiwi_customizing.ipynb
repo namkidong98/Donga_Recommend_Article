{
 "cells": [
  {
   "cell_type": "markdown",
   "metadata": {},
   "source": [
    "## 1. 정보성 부족한 기사 제거"
   ]
  },
  {
   "cell_type": "code",
   "execution_count": 1,
   "metadata": {},
   "outputs": [
    {
     "data": {
      "text/html": [
       "<div>\n",
       "<style scoped>\n",
       "    .dataframe tbody tr th:only-of-type {\n",
       "        vertical-align: middle;\n",
       "    }\n",
       "\n",
       "    .dataframe tbody tr th {\n",
       "        vertical-align: top;\n",
       "    }\n",
       "\n",
       "    .dataframe thead th {\n",
       "        text-align: right;\n",
       "    }\n",
       "</style>\n",
       "<table border=\"1\" class=\"dataframe\">\n",
       "  <thead>\n",
       "    <tr style=\"text-align: right;\">\n",
       "      <th></th>\n",
       "      <th>id</th>\n",
       "      <th>title</th>\n",
       "      <th>date</th>\n",
       "      <th>content</th>\n",
       "      <th>NER</th>\n",
       "    </tr>\n",
       "  </thead>\n",
       "  <tbody>\n",
       "    <tr>\n",
       "      <th>0</th>\n",
       "      <td>122846231_0</td>\n",
       "      <td>중 군 고위간부 9명 전인대 대표 박탈… '로켓군' 납품 관련 부패사건 연루 의혹</td>\n",
       "      <td>20240101</td>\n",
       "      <td>\"리상푸 전국방부장 낙마와 연관\" 리부장 후임엔 해군출신 둥쥔 중국 당국이 '반(반...</td>\n",
       "      <td>리상푸 전국방부장 리부장 해군 둥쥔 중국 군 중국 국방부장 대만 필리핀 남중국해 중...</td>\n",
       "    </tr>\n",
       "    <tr>\n",
       "      <th>1</th>\n",
       "      <td>122846231_1</td>\n",
       "      <td>중 군 고위간부 9명 전인대 대표 박탈… '로켓군' 납품 관련 부패사건 연루 의혹</td>\n",
       "      <td>20240101</td>\n",
       "      <td>장비 발전(조달) 부문에 집중됐던 것으로 전해졌다. 커우젠원(구건문) 대만정치대 ...</td>\n",
       "      <td>커우젠원 구건문 대만정치대 주임 전국인대 중국 중앙군사위 중국 리상푸 李상복 국방부...</td>\n",
       "    </tr>\n",
       "    <tr>\n",
       "      <th>2</th>\n",
       "      <td>122846362_0</td>\n",
       "      <td>서울 12cm 기습 폭설… \"이런 눈 또 온다\"</td>\n",
       "      <td>20240101</td>\n",
       "      <td>13년만에 최대… 도로 곳곳 사고 방파제 추락-조난사고도 발생 \"엘니뇨-온난화로 폭...</td>\n",
       "      <td>서울 기상청 서울 한반도 강원 서울 광진구 마을버스 종로구 서대문구</td>\n",
       "    </tr>\n",
       "    <tr>\n",
       "      <th>3</th>\n",
       "      <td>122846362_1</td>\n",
       "      <td>서울 12cm 기습 폭설… \"이런 눈 또 온다\"</td>\n",
       "      <td>20240101</td>\n",
       "      <td>역 방향으로 향하는 통일로 5차로에서 추돌사고가 발생해 도로가 한때 부분 통제됐다....</td>\n",
       "      <td>통일로 5차로 천호대교 북단 강원 춘천시 트럭 강원 삼척시 아래 구급대원 평창군 소...</td>\n",
       "    </tr>\n",
       "    <tr>\n",
       "      <th>4</th>\n",
       "      <td>122846400_0</td>\n",
       "      <td>'자산 301조원' 머스크, 세계 최고 부자에</td>\n",
       "      <td>20240101</td>\n",
       "      <td>1년새 124조원 늘어… 증가액도 1위 아르노 LVMH 회장 2위로 밀려나 베이조스...</td>\n",
       "      <td>아르노 LVMH 회장 베이조스 게이츠 머어이재용 회장 일론 프랑스 루이뷔통모에에네시...</td>\n",
       "    </tr>\n",
       "  </tbody>\n",
       "</table>\n",
       "</div>"
      ],
      "text/plain": [
       "            id                                          title      date  \\\n",
       "0  122846231_0  중 군 고위간부 9명 전인대 대표 박탈… '로켓군' 납품 관련 부패사건 연루 의혹  20240101   \n",
       "1  122846231_1  중 군 고위간부 9명 전인대 대표 박탈… '로켓군' 납품 관련 부패사건 연루 의혹  20240101   \n",
       "2  122846362_0                     서울 12cm 기습 폭설… \"이런 눈 또 온다\"  20240101   \n",
       "3  122846362_1                     서울 12cm 기습 폭설… \"이런 눈 또 온다\"  20240101   \n",
       "4  122846400_0                      '자산 301조원' 머스크, 세계 최고 부자에  20240101   \n",
       "\n",
       "                                             content  \\\n",
       "0  \"리상푸 전국방부장 낙마와 연관\" 리부장 후임엔 해군출신 둥쥔 중국 당국이 '반(반...   \n",
       "1   장비 발전(조달) 부문에 집중됐던 것으로 전해졌다. 커우젠원(구건문) 대만정치대 ...   \n",
       "2  13년만에 최대… 도로 곳곳 사고 방파제 추락-조난사고도 발생 \"엘니뇨-온난화로 폭...   \n",
       "3  역 방향으로 향하는 통일로 5차로에서 추돌사고가 발생해 도로가 한때 부분 통제됐다....   \n",
       "4  1년새 124조원 늘어… 증가액도 1위 아르노 LVMH 회장 2위로 밀려나 베이조스...   \n",
       "\n",
       "                                                 NER  \n",
       "0  리상푸 전국방부장 리부장 해군 둥쥔 중국 군 중국 국방부장 대만 필리핀 남중국해 중...  \n",
       "1  커우젠원 구건문 대만정치대 주임 전국인대 중국 중앙군사위 중국 리상푸 李상복 국방부...  \n",
       "2              서울 기상청 서울 한반도 강원 서울 광진구 마을버스 종로구 서대문구  \n",
       "3  통일로 5차로 천호대교 북단 강원 춘천시 트럭 강원 삼척시 아래 구급대원 평창군 소...  \n",
       "4  아르노 LVMH 회장 베이조스 게이츠 머어이재용 회장 일론 프랑스 루이뷔통모에에네시...  "
      ]
     },
     "execution_count": 1,
     "metadata": {},
     "output_type": "execute_result"
    }
   ],
   "source": [
    "import pandas as pd\n",
    "\n",
    "df = pd.read_csv(\"dataset/2024_norm_split_ner.csv\")\n",
    "df.head()"
   ]
  },
  {
   "cell_type": "code",
   "execution_count": 2,
   "metadata": {},
   "outputs": [
    {
     "name": "stdout",
     "output_type": "stream",
     "text": [
      "450 9\n"
     ]
    }
   ],
   "source": [
    "length_list = [len(x) for x in df['content'].tolist()]\n",
    "print(max(length_list), min(length_list)) # 너무 짧은 블록들이 있다"
   ]
  },
  {
   "cell_type": "code",
   "execution_count": 9,
   "metadata": {},
   "outputs": [
    {
     "name": "stdout",
     "output_type": "stream",
     "text": [
      "under 100 : 597\n",
      "under 150 : 1283\n",
      "under 200 : 2187\n",
      "under 250 : 2548\n",
      "under 300 : 2882\n",
      "under 350 : 3163\n",
      "under 400 : 3520\n",
      "over 400 : 70148\n"
     ]
    }
   ],
   "source": [
    "print(\"under 100 :\", len(df[df['content'].str.len() <= 100]))\n",
    "print(\"under 150 :\", len(df[df['content'].str.len() <= 150]))\n",
    "print(\"under 200 :\", len(df[df['content'].str.len() <= 200]))\n",
    "print(\"under 250 :\", len(df[df['content'].str.len() <= 250]))\n",
    "print(\"under 300 :\", len(df[df['content'].str.len() <= 300]))\n",
    "print(\"under 350 :\", len(df[df['content'].str.len() <= 350]))\n",
    "print(\"under 400 :\", len(df[df['content'].str.len() <= 400]))\n",
    "print(\"over 400 :\", len(df[df['content'].str.len() > 400]))"
   ]
  },
  {
   "cell_type": "code",
   "execution_count": 12,
   "metadata": {},
   "outputs": [
    {
     "data": {
      "text/plain": [
       "['2024 파리 올림픽의 해가 밝았다. 올림픽을 준비하는 국가대표 선수들은 한겨울에도 구슬땀을 흘리고 있다. 사진은 지난해 12월 28일 충북 진천선수촌에서 밧줄타기 훈련을 하고 있는 유도, 레슬링 국가대표 선수들. 밧줄 사이로 올림픽을 상징하는 오륜 마크가 보인다. 파리 올림픽은 현지 시간으로 7월 26일 개막한다. 진천=송은석 기자 silverstone@donga.com',\n",
       " \"삼성생명은 보장을 강화한 '다(다)모은 건강보험 필요한 보장만 쏙쏙 S1'을 이달부터 판매한다고 2일 밝혔다. 이 상품은 고객이 필요한 보장만 직접 선택해 원하는 보험료로 자유롭게 설계할 수 있는 맞춤형 상품이다. 삼성생명 상품 중 최다 수준인 144개 특약을 제공해 각종 질병에 대해 종합적인 보장을 받을 수 있다. 또 가입 대상을 표준체와 유병자로 분류해 가입자의 선택 폭을 넓혔다.\",\n",
       " \"SPC그룹은 채용 연계 프로그램 '파리크라상 영 캠프(영 캠프)' 1기 신입생을 모집한다고 3일 밝혔다. 영 캠프는 특성화고와 전문대 졸업 예정자를 대상으로 제과·제빵, 샌드위치, 요리, 커피 분야 교육을 진행하고 수료생 중 희망자 전원을 파리크라상 정직원으로 채용하는 프로그램이다. 21일까지 서류를 받아 면접과 실기전형을 거쳐 다음 달 7일 최종 합격자를 발표한다. 정서영 기자 cero@donga.com\",\n",
       " \"HD현대가 'HD현대 경영인상'을 제정하고 첫 수상자로 조석 HD현대일렉트릭 사장(사진)을 선정했다고 4일 밝혔다. HD현대 경영인상은 그룹 내 본부장 이상 임원 중 한 해 동안 탁월한 성과를 달성한 임원에게 수여한다. 책임 경영을 강화하고, 경영 목표 달성을 독려하기 위한 방안이다. 조 사장은 2019년 적자 상태이던 HD현대일렉트릭의 대표이사로 취임한 뒤 4년 연속 흑자로 만든 공로를 인정받았다. 구특교 기자 kootg@donga.com\",\n",
       " '김동신 외 지음·북노마드 어떤 서점들은 오래된 책, 잘 알려지지 않았지만 좋은 책, 재발견되어야 할 책들을 빛나는 자리에 두고 그럴 때 공간은 마치 한 사람의 내면세계 같아 재밌어진다. 목록과 배치의 차이가 그려내는 점묘화가 뚜렷한 개성을 자아내는 것이다. 누군가의 머릿속에 문을 열고 들어가는 경험은 서점에서 드물게 가능한 것 같다. 출판계에 속한 세 저자가 책과 출판에 관해 쓴 산문집.',\n",
       " '성적을 부탁해: 티처스(일요일 오후 7시 50분) 훈훈한 외모의 고1 미대 지망생이 출연한다. 학생은 \"홍익대 회화과를 목표로 하고 있지만, 공부를 못하면 아예 갈 수가 없다\"며 성적 고민을 털어놓는다. 도전 학생의 성적을 확인한 \\'영어 1타\\' 조정식 강사는 \"고1 모의고사 7등급은 (실제로) 처음 봤다. 실기를 접고 공부를 하는 게 맞다\"며 냉철한 조언을 건넨다.',\n",
       " \"렉서스코리아는 'ES 300h'에 속도감이 강조된 외관 디자인을 적용한 2024년형 'ES 300h F 스포츠 디자인 패키지 모델'(사진)을 국내에 150대 한정 판매한다고 8일 밝혔다. 메시 타입의 전용 '스핀들' 그릴과 블랙 컬러로 마감된 19인치 휠, F 배지 등의 디자인이 새로 적용됐다. 한정 판매는 이날부터 시작되며 가격은 6360만 원(부가세 포함·개별소비자세 5％ 적용)이다.\",\n",
       " \"8일 부동산R114에 따르면 1월 둘째 주에는 전국 12개 단지 5483채가 분양에 나선다. 이 중 일반분양 물량은 2844채다. 인천 계양구 작전동 '두산위브더제니스센트럴계양', 경기 용인시 기흥구 서천동 '영통역자이프라시엘', 울산 남구 신정동 '문수로아르티스' 등 6개 단지가 청약을 받는다. 본보기집은 '위파크일곡공원', '강릉유블레스리센트' 등 2곳에서 문을 연다. 오승준 기자 ohmygod@donga.com\",\n",
       " \"9~12일(현지 시간) 미국 라스베이거스에서 열리는 세계 최대 정보기술(IT)·가전 전시회 'CES 2024' 개막을 앞두고 열린 '삼성전자 퍼스트룩 2024' 행사에 각국 취재진 등 400여 명이 몰렸다. 7일 미 시저스팰리스호텔에서 열린 이번 행사에선 유리창처럼 보이는 디스플레이 '투명 마이크로 발광다이오드(LED)'가 공개돼 이목을 끌었다. 올해 CES에서는 실생활과 접목한 인공지능(AI) 기술을 대거 선보인다. 라스베이거스=뉴스1\",\n",
       " '스타벅스코리아가 9일 오전 서울 종로타워에 있는 스타벅스 종로R점에서 청년 취업 활성화를 위한 커뮤니티 스토어 8호점을 열었다. 스타벅스 손정현 대표이사(가운데)가 참석해 청년 취업 활성화 활동을 위한 업무 협약식과 기금 전달식을 가졌다. 스타벅스는 커뮤니티 스토어 8호점에서 판매되는 상품 한 개당 300원씩 적립해 연간 1억 원의 청년 취업 활성화 기금을 조성할 계획이다. 변영욱 기자 cut@donga.com']"
      ]
     },
     "execution_count": 12,
     "metadata": {},
     "output_type": "execute_result"
    }
   ],
   "source": [
    "# 200~250자는 확실히 정보성이 있는 느낌\n",
    "df[(df['content'].str.len() <= 250) & (df['content'].str.len() >= 200)]['content'].tolist()[:10]"
   ]
  },
  {
   "cell_type": "code",
   "execution_count": 15,
   "metadata": {},
   "outputs": [
    {
     "data": {
      "text/plain": [
       "['한국가스안전공사 제18대 사장에 박경국 전 안전행정부 1차관(65·사진)이 임명됐다. 박 신임 사장은 대통령 소속 지역발전위원회 지역협력국장, 국가기록원장 등을 거쳤다. 공직 생활을 마친 후에는 충북대 석좌교수, 강동대 초빙교수, 대통령 소속 지방자치발전위원회 지방분권 분과 위원장 등을 지냈다. 임기는 3년이다.',\n",
       " '절친 토큐멘터리-4인용 식탁(1일 오후 8시 10분) 대한민국 사찰 음식의 대가 정관 스님이 일식 셰프 정호영, 양식 셰프 송훈, 중식 셰프 정지선을 초대해 제철 재료를 이용한 음식을 대접한다. 셰프들은 정관 스님이 직접 담근 장류와 김치, 해외에서 공수해 온 각종 양념과 식재료가 가득 찬 보물창고를 탐방한다.',\n",
       " \"2일 부동산R114에 따르면 1월 첫째 주에는 전국 6개 단지에서 4703채(일반분양 2325채)가 분양에 나선다. 경기 광명시 광명동 '광명자이힐스테이트SK뷰', 강원 춘천시 약사동 '쌍용더플래티넘스카이', 충남 아산시 탕정면 '더샵탕정인피니티시티' 등에서 청약을 진행한다. 본보기집을 여는 곳은 없다.\",\n",
       " '대한항공은 1일 새벽 인천국제공항에서 올해 첫 국제선 입국 고객을 환영하는 행사를 가졌다. 왼쪽 세 번째부터 송보영 대한항공 여객사업본부장, 데이비드 페이시 대한항공 기내식기판 및 라운지 부문 부사장, 새해 첫 고객 쫑위에 씨, 이학재 인천국제공항공사 사장, 유구종 인천국제공항공사 운영본부장이 기념촬영을 하고 있다. 대한항공 제공',\n",
       " \"행복한 아침(2일 오전 7시 반) '1% 엄마 코칭'에서는 아이들이 책임감, 성취감을 기르도록 돕는 집안일의 교육 효과에 대해 알아본다. '머니, 뭐니!?'에서는 올 상반기 개인을 대상으로 한 개인투자용 국채가 발행되는 가운데, 개인투자용 국채의 특징과 장단점 등을 전문가들과 함께 꼼꼼하게 따져본다.\",\n",
       " '1일 서울 강남구 수서역 수도권광역급행철도(GTX) 홍보관에서 시민들이 GTX 열차 모형을 관람하고 있다. 국토교통부는 3월 말로 예정된 GTX-A 노선 수서~동탄 구간 개통을 앞두고 지난해 12월 22일부터 수서역에 홍보관을 운영하고 있다. 전영한 기자 scoopjyh@donga.com',\n",
       " \"새해 첫날인 1일 오전 서울 노원구 서울과학기술대 종합운동장에 개장한 '2024 노원 눈썰매장'에서 시민들이 눈썰매를 타고 있다. 이 눈썰매장은 1월 한 달간 매일 오전 10시부터 오후 5시까지 성인용과 어린이용으로 분리해 운영된다. 아이스링크와 눈놀이동산 등의 놀이시설도 함께 마련됐다. 이한결 기자 always@donga.com\",\n",
       " '독도 뒤로 해가 떠오릅니다. 울릉도에서 독도와 해를 같이 찍을 수 있는 날은 연중 며칠 안 된답니다. 갑진년 새해도 복을 가득 품길 기원합니다. -울릉도에서 스마트폰 카메라로 QR코드를 찍으면 포토에세이 동영상을 확인할 수 있습니다 양회성 기자 yohan@donga.com',\n",
       " \"광주 서구 신세계백화점을 방문한 소비자들이 점포 1층에 위치한 아트월에서 기념촬영을 하고 있다. 신세계백화점은 다음 달 13일까지 광주점에서 '신년 기획전: 용이 여의주를 얻듯이'를 연다. 1층 대표작으로는 황중환 작가가 제작한 용 일러스트가 선정됐다. 신세계백화점 제공\",\n",
       " \"지난해 12월 31일 경기 부천시 삼정동 '부천아트벙커B39'를 찾은 시민들이 '아슬아슬아슬: 경계에 발 딛기'라는 전시를 둘러보고 있다. 작가 11명이 경계에 대한 탐구를 시각적으로 표현한 이번 전시는 28일까지 열린다. 최승훈 채널A 스마트리포터 press653@donga.com\"]"
      ]
     },
     "execution_count": 15,
     "metadata": {},
     "output_type": "execute_result"
    }
   ],
   "source": [
    "# 150~200자도 정보성이 있어 보인다\n",
    "df[(df['content'].str.len() <= 200) & (df['content'].str.len() >= 150)]['content'].tolist()[:10]"
   ]
  },
  {
   "cell_type": "code",
   "execution_count": 17,
   "metadata": {},
   "outputs": [
    {
     "data": {
      "text/plain": [
       "[\"푸른 용의 해인 갑진년 새해를 맞아 아덴만 해역에서 선박 보호와 해적 퇴치 임무를 수행 중인 청해부대 41진 장병들이 광개토대왕급 구축함인 양만춘함(3200t) 갑판에서 태극기가 들어간 '2024'를 만들어 국민들에게 새해 인사를 전하고 있다. 합참 제공\",\n",
       " \"세종시는 지난해 12월 31일 세종호수공원 중앙광장 일원에서 '시민과 함께하는 새해 맞이 카운트다운 불꽃쇼'를 개최했다. 불꽃쇼는 4막으로 구성된 음악과 함께 7분간 이어지며 화려한 풍경을 선사했다. 세종시 제공\",\n",
       " ' ● 한국보건사회연구원 ▲ 빈곤불평등연구실장 여유진 ▲ 빈곤불평등연구실 기초보장연구센터장 임완섭 ▲ 사회서비스정책〃 사회서비스〃김유휘 ▲ 〃 장애인정책〃 이민경 ▲ 〃 노인정책〃 김세진',\n",
       " '새해 첫 거래일인 2일 서울 여의도 KB국민은행 스마트딜링룸 전광판에 마감된 코스피가 표시돼 있다. 이날 코스닥지수는 전 거래일보다 12.36포인트(1.43%) 오른 878.93에 장을 마감했다. 뉴시스',\n",
       " '2일 대구 남구 앞산 충혼탑에서 새해 참배 행사가 열린 가운데 지역 단체장들이 헌화에 앞서 국민의례를 하고 있다. 앞줄 왼쪽부터 김대권 수성구청장, 류한국 서구청장, 류규하 중구청장, 홍준표 대구시장, 조재구 남구청장, 윤석준 동구청장, 배광식 북구청장. 대구시 제공',\n",
       " ' ● MBK파트너스 〈승진〉 ▲ 파트너 겸 부사장 ▲ 스페셜 시튜에이션스 한국투자 총괄 문주호 ● 이지스자산운용 〈신규 선임〉 ▲ 부문대표 ▲ 인프라 오태석 ● BNK투자증권 〈신규 선임〉 ▲ 대표이사 ▲ 신명호',\n",
       " '새해 첫날인 1일 경기 시흥시 월곶동 월곶에코피아 썰매장을 찾은 시민들이 겨울을 만끽하고 있다. 월곶에코피아는 썰매장과 아이들을 위한 눈동산, 미니바이킹, 회전그네 등 놀이 시설을 운영하고 있다. 최승훈 채널A 스마트리포터 press653@donga.com',\n",
       " \"충북 진천군은 우수 농특산물 공동브랜드 '생거진천'의 전속모델로 축구선수 출신 방송인 안정환을 발탁했다고 3일 밝혔다. 생거진천은 진천의 우수 농특산물 생산자에게 고품질 이미지를 제공하고 소비자의 신뢰를 확보하기 위해 군수가 사용권을 부여해 주는 상표다. 진천군 제공\",\n",
       " '4일 서울 중구 하나은행 위변조대응센터에서 직원이 미국 달러화를 살펴보고 있다. 한국은행에 따르면 지난해 12월 말 기준 외환보유액은 4201억5000만 달러로 한 달 새 30억7000만 달러 늘었다. 뉴시스',\n",
       " '이부진 두을장학재단 이사장이 4일 서울 용산구 리움미술관에서 열린 2024 장학증서 수여식에서 새로 선발된 장학생들과 기념촬영을 하고 있다. 두을장학재단은 이병철 삼성그룹 창업주의 부인 고 박두을 여사의 유지로 설립된 여성 대상 장학재단이다. 두을장학재단 제공']"
      ]
     },
     "execution_count": 17,
     "metadata": {},
     "output_type": "execute_result"
    }
   ],
   "source": [
    "# 100~150자는 3~4문장 정도 밖에 되지 않으며, 주로 행사 소개, 간단한 소식 전달 수준이므로 150자 이하부터 제거하기로 판단했다.\n",
    "df[(df['content'].str.len() <= 150) & (df['content'].str.len() >= 100)]['content'].tolist()[:10]"
   ]
  },
  {
   "cell_type": "code",
   "execution_count": 18,
   "metadata": {},
   "outputs": [
    {
     "name": "stdout",
     "output_type": "stream",
     "text": [
      "짧은 길이의 기사 제거 전 : 73668\n",
      "짧은 길이의 기사 제거 후 : 72401\n"
     ]
    }
   ],
   "source": [
    "print(\"짧은 길이의 기사 제거 전 :\", len(df))\n",
    "df = df[df['content'].str.len() >= 150]\n",
    "print(\"짧은 길이의 기사 제거 후 :\", len(df)) # 약 1200개 정도 제거"
   ]
  },
  {
   "cell_type": "code",
   "execution_count": 20,
   "metadata": {},
   "outputs": [],
   "source": [
    "df.to_csv(\"dataset/2024_norm_split_ner_pruning.csv\", index=False)"
   ]
  },
  {
   "cell_type": "markdown",
   "metadata": {},
   "source": [
    "## 2. NER 결과 빈도 분석하여 유효한 Set 추출"
   ]
  },
  {
   "cell_type": "code",
   "execution_count": 2,
   "metadata": {},
   "outputs": [
    {
     "data": {
      "text/html": [
       "<div>\n",
       "<style scoped>\n",
       "    .dataframe tbody tr th:only-of-type {\n",
       "        vertical-align: middle;\n",
       "    }\n",
       "\n",
       "    .dataframe tbody tr th {\n",
       "        vertical-align: top;\n",
       "    }\n",
       "\n",
       "    .dataframe thead th {\n",
       "        text-align: right;\n",
       "    }\n",
       "</style>\n",
       "<table border=\"1\" class=\"dataframe\">\n",
       "  <thead>\n",
       "    <tr style=\"text-align: right;\">\n",
       "      <th></th>\n",
       "      <th>id</th>\n",
       "      <th>title</th>\n",
       "      <th>date</th>\n",
       "      <th>content</th>\n",
       "      <th>NER</th>\n",
       "    </tr>\n",
       "  </thead>\n",
       "  <tbody>\n",
       "    <tr>\n",
       "      <th>0</th>\n",
       "      <td>122846231_0</td>\n",
       "      <td>중 군 고위간부 9명 전인대 대표 박탈… '로켓군' 납품 관련 부패사건 연루 의혹</td>\n",
       "      <td>20240101</td>\n",
       "      <td>\"리상푸 전국방부장 낙마와 연관\" 리부장 후임엔 해군출신 둥쥔 중국 당국이 '반(반...</td>\n",
       "      <td>리상푸 전국방부장 리부장 해군 둥쥔 중국 군 중국 국방부장 대만 필리핀 남중국해 중...</td>\n",
       "    </tr>\n",
       "    <tr>\n",
       "      <th>1</th>\n",
       "      <td>122846231_1</td>\n",
       "      <td>중 군 고위간부 9명 전인대 대표 박탈… '로켓군' 납품 관련 부패사건 연루 의혹</td>\n",
       "      <td>20240101</td>\n",
       "      <td>장비 발전(조달) 부문에 집중됐던 것으로 전해졌다. 커우젠원(구건문) 대만정치대 ...</td>\n",
       "      <td>커우젠원 구건문 대만정치대 주임 전국인대 중국 중앙군사위 중국 리상푸 李상복 국방부...</td>\n",
       "    </tr>\n",
       "    <tr>\n",
       "      <th>2</th>\n",
       "      <td>122846362_0</td>\n",
       "      <td>서울 12cm 기습 폭설… \"이런 눈 또 온다\"</td>\n",
       "      <td>20240101</td>\n",
       "      <td>13년만에 최대… 도로 곳곳 사고 방파제 추락-조난사고도 발생 \"엘니뇨-온난화로 폭...</td>\n",
       "      <td>서울 기상청 서울 한반도 강원 서울 광진구 마을버스 종로구 서대문구</td>\n",
       "    </tr>\n",
       "    <tr>\n",
       "      <th>3</th>\n",
       "      <td>122846362_1</td>\n",
       "      <td>서울 12cm 기습 폭설… \"이런 눈 또 온다\"</td>\n",
       "      <td>20240101</td>\n",
       "      <td>역 방향으로 향하는 통일로 5차로에서 추돌사고가 발생해 도로가 한때 부분 통제됐다....</td>\n",
       "      <td>통일로 5차로 천호대교 북단 강원 춘천시 트럭 강원 삼척시 아래 구급대원 평창군 소...</td>\n",
       "    </tr>\n",
       "    <tr>\n",
       "      <th>4</th>\n",
       "      <td>122846400_0</td>\n",
       "      <td>'자산 301조원' 머스크, 세계 최고 부자에</td>\n",
       "      <td>20240101</td>\n",
       "      <td>1년새 124조원 늘어… 증가액도 1위 아르노 LVMH 회장 2위로 밀려나 베이조스...</td>\n",
       "      <td>아르노 LVMH 회장 베이조스 게이츠 머어이재용 회장 일론 프랑스 루이뷔통모에에네시...</td>\n",
       "    </tr>\n",
       "  </tbody>\n",
       "</table>\n",
       "</div>"
      ],
      "text/plain": [
       "            id                                          title      date  \\\n",
       "0  122846231_0  중 군 고위간부 9명 전인대 대표 박탈… '로켓군' 납품 관련 부패사건 연루 의혹  20240101   \n",
       "1  122846231_1  중 군 고위간부 9명 전인대 대표 박탈… '로켓군' 납품 관련 부패사건 연루 의혹  20240101   \n",
       "2  122846362_0                     서울 12cm 기습 폭설… \"이런 눈 또 온다\"  20240101   \n",
       "3  122846362_1                     서울 12cm 기습 폭설… \"이런 눈 또 온다\"  20240101   \n",
       "4  122846400_0                      '자산 301조원' 머스크, 세계 최고 부자에  20240101   \n",
       "\n",
       "                                             content  \\\n",
       "0  \"리상푸 전국방부장 낙마와 연관\" 리부장 후임엔 해군출신 둥쥔 중국 당국이 '반(반...   \n",
       "1   장비 발전(조달) 부문에 집중됐던 것으로 전해졌다. 커우젠원(구건문) 대만정치대 ...   \n",
       "2  13년만에 최대… 도로 곳곳 사고 방파제 추락-조난사고도 발생 \"엘니뇨-온난화로 폭...   \n",
       "3  역 방향으로 향하는 통일로 5차로에서 추돌사고가 발생해 도로가 한때 부분 통제됐다....   \n",
       "4  1년새 124조원 늘어… 증가액도 1위 아르노 LVMH 회장 2위로 밀려나 베이조스...   \n",
       "\n",
       "                                                 NER  \n",
       "0  리상푸 전국방부장 리부장 해군 둥쥔 중국 군 중국 국방부장 대만 필리핀 남중국해 중...  \n",
       "1  커우젠원 구건문 대만정치대 주임 전국인대 중국 중앙군사위 중국 리상푸 李상복 국방부...  \n",
       "2              서울 기상청 서울 한반도 강원 서울 광진구 마을버스 종로구 서대문구  \n",
       "3  통일로 5차로 천호대교 북단 강원 춘천시 트럭 강원 삼척시 아래 구급대원 평창군 소...  \n",
       "4  아르노 LVMH 회장 베이조스 게이츠 머어이재용 회장 일론 프랑스 루이뷔통모에에네시...  "
      ]
     },
     "execution_count": 2,
     "metadata": {},
     "output_type": "execute_result"
    }
   ],
   "source": [
    "import pandas as pd\n",
    "df = pd.read_csv(\"dataset/2024_norm_split_ner_pruning.csv\")\n",
    "df.head()"
   ]
  },
  {
   "cell_type": "code",
   "execution_count": 3,
   "metadata": {},
   "outputs": [
    {
     "data": {
      "text/plain": [
       "1079755"
      ]
     },
     "execution_count": 3,
     "metadata": {},
     "output_type": "execute_result"
    }
   ],
   "source": [
    "# NER을 전체로 합쳐서 다시 공백 기준으로 나누어 단어 별로 분해\n",
    "total = ' '.join(df['NER'].tolist()).split() \n",
    "len(total) # 총 100만 단어"
   ]
  },
  {
   "cell_type": "code",
   "execution_count": 4,
   "metadata": {},
   "outputs": [
    {
     "data": {
      "text/plain": [
       "116775"
      ]
     },
     "execution_count": 4,
     "metadata": {},
     "output_type": "execute_result"
    }
   ],
   "source": [
    "unique_ner = list(set(total))\n",
    "len(unique_ner) # 그 중에서 중복 없이 등장한 단어 개수는 약 11만개"
   ]
  },
  {
   "cell_type": "code",
   "execution_count": 5,
   "metadata": {},
   "outputs": [
    {
     "data": {
      "text/plain": [
       "116775"
      ]
     },
     "execution_count": 5,
     "metadata": {},
     "output_type": "execute_result"
    }
   ],
   "source": [
    "from collections import Counter\n",
    "\n",
    "ner_counts = Counter(total)\n",
    "ner_counts_df = pd.DataFrame(ner_counts.items(), columns = ['NER', 'Frequency'])\n",
    "\n",
    "ner_counts_df = ner_counts_df.sort_values(by='Frequency', ascending=False)\n",
    "len(ner_counts_df)"
   ]
  },
  {
   "cell_type": "code",
   "execution_count": 6,
   "metadata": {},
   "outputs": [
    {
     "data": {
      "text/html": [
       "<div>\n",
       "<style scoped>\n",
       "    .dataframe tbody tr th:only-of-type {\n",
       "        vertical-align: middle;\n",
       "    }\n",
       "\n",
       "    .dataframe tbody tr th {\n",
       "        vertical-align: top;\n",
       "    }\n",
       "\n",
       "    .dataframe thead th {\n",
       "        text-align: right;\n",
       "    }\n",
       "</style>\n",
       "<table border=\"1\" class=\"dataframe\">\n",
       "  <thead>\n",
       "    <tr style=\"text-align: right;\">\n",
       "      <th></th>\n",
       "      <th>NER</th>\n",
       "      <th>Frequency</th>\n",
       "    </tr>\n",
       "  </thead>\n",
       "  <tbody>\n",
       "    <tr>\n",
       "      <th>188</th>\n",
       "      <td>대통령</td>\n",
       "      <td>23569</td>\n",
       "    </tr>\n",
       "    <tr>\n",
       "      <th>100</th>\n",
       "      <td>정부</td>\n",
       "      <td>15690</td>\n",
       "    </tr>\n",
       "    <tr>\n",
       "      <th>150</th>\n",
       "      <td>미국</td>\n",
       "      <td>14305</td>\n",
       "    </tr>\n",
       "    <tr>\n",
       "      <th>350</th>\n",
       "      <td>한국</td>\n",
       "      <td>12750</td>\n",
       "    </tr>\n",
       "    <tr>\n",
       "      <th>37</th>\n",
       "      <td>서울</td>\n",
       "      <td>11512</td>\n",
       "    </tr>\n",
       "  </tbody>\n",
       "</table>\n",
       "</div>"
      ],
      "text/plain": [
       "     NER  Frequency\n",
       "188  대통령      23569\n",
       "100   정부      15690\n",
       "150   미국      14305\n",
       "350   한국      12750\n",
       "37    서울      11512"
      ]
     },
     "execution_count": 6,
     "metadata": {},
     "output_type": "execute_result"
    }
   ],
   "source": [
    "ner_counts_df.head()"
   ]
  },
  {
   "cell_type": "markdown",
   "metadata": {},
   "source": [
    "####  빈도 수가 적은 단어들은 NER 성능의 문제 혹은 사용 빈도수가 적은 어휘로 판단하고 사전에 추가하지 않음"
   ]
  },
  {
   "cell_type": "code",
   "execution_count": 7,
   "metadata": {},
   "outputs": [
    {
     "data": {
      "text/html": [
       "<div>\n",
       "<style scoped>\n",
       "    .dataframe tbody tr th:only-of-type {\n",
       "        vertical-align: middle;\n",
       "    }\n",
       "\n",
       "    .dataframe tbody tr th {\n",
       "        vertical-align: top;\n",
       "    }\n",
       "\n",
       "    .dataframe thead th {\n",
       "        text-align: right;\n",
       "    }\n",
       "</style>\n",
       "<table border=\"1\" class=\"dataframe\">\n",
       "  <thead>\n",
       "    <tr style=\"text-align: right;\">\n",
       "      <th></th>\n",
       "      <th>NER</th>\n",
       "      <th>Frequency</th>\n",
       "    </tr>\n",
       "  </thead>\n",
       "  <tbody>\n",
       "    <tr>\n",
       "      <th>825</th>\n",
       "      <td>미</td>\n",
       "      <td>3912</td>\n",
       "    </tr>\n",
       "    <tr>\n",
       "      <th>948</th>\n",
       "      <td>앞</td>\n",
       "      <td>2025</td>\n",
       "    </tr>\n",
       "    <tr>\n",
       "      <th>516</th>\n",
       "      <td>눈</td>\n",
       "      <td>1792</td>\n",
       "    </tr>\n",
       "    <tr>\n",
       "      <th>651</th>\n",
       "      <td>몸</td>\n",
       "      <td>1681</td>\n",
       "    </tr>\n",
       "    <tr>\n",
       "      <th>509</th>\n",
       "      <td>손</td>\n",
       "      <td>1558</td>\n",
       "    </tr>\n",
       "    <tr>\n",
       "      <th>...</th>\n",
       "      <td>...</td>\n",
       "      <td>...</td>\n",
       "    </tr>\n",
       "    <tr>\n",
       "      <th>60741</th>\n",
       "      <td>돔</td>\n",
       "      <td>1</td>\n",
       "    </tr>\n",
       "    <tr>\n",
       "      <th>55518</th>\n",
       "      <td>빅</td>\n",
       "      <td>1</td>\n",
       "    </tr>\n",
       "    <tr>\n",
       "      <th>55853</th>\n",
       "      <td>톳</td>\n",
       "      <td>1</td>\n",
       "    </tr>\n",
       "    <tr>\n",
       "      <th>54396</th>\n",
       "      <td>룸</td>\n",
       "      <td>1</td>\n",
       "    </tr>\n",
       "    <tr>\n",
       "      <th>56763</th>\n",
       "      <td>·</td>\n",
       "      <td>1</td>\n",
       "    </tr>\n",
       "  </tbody>\n",
       "</table>\n",
       "<p>781 rows × 2 columns</p>\n",
       "</div>"
      ],
      "text/plain": [
       "      NER  Frequency\n",
       "825     미       3912\n",
       "948     앞       2025\n",
       "516     눈       1792\n",
       "651     몸       1681\n",
       "509     손       1558\n",
       "...    ..        ...\n",
       "60741   돔          1\n",
       "55518   빅          1\n",
       "55853   톳          1\n",
       "54396   룸          1\n",
       "56763   ·          1\n",
       "\n",
       "[781 rows x 2 columns]"
      ]
     },
     "execution_count": 7,
     "metadata": {},
     "output_type": "execute_result"
    }
   ],
   "source": [
    "ner_counts_df[ner_counts_df['NER'].str.len() == 1]"
   ]
  },
  {
   "cell_type": "code",
   "execution_count": 8,
   "metadata": {},
   "outputs": [
    {
     "data": {
      "text/plain": [
       "115994"
      ]
     },
     "execution_count": 8,
     "metadata": {},
     "output_type": "execute_result"
    }
   ],
   "source": [
    "ner_counts_df = ner_counts_df[ner_counts_df['NER'].str.len() > 1]\n",
    "len(ner_counts_df)"
   ]
  },
  {
   "cell_type": "code",
   "execution_count": 9,
   "metadata": {},
   "outputs": [
    {
     "data": {
      "text/html": [
       "<div>\n",
       "<style scoped>\n",
       "    .dataframe tbody tr th:only-of-type {\n",
       "        vertical-align: middle;\n",
       "    }\n",
       "\n",
       "    .dataframe tbody tr th {\n",
       "        vertical-align: top;\n",
       "    }\n",
       "\n",
       "    .dataframe thead th {\n",
       "        text-align: right;\n",
       "    }\n",
       "</style>\n",
       "<table border=\"1\" class=\"dataframe\">\n",
       "  <thead>\n",
       "    <tr style=\"text-align: right;\">\n",
       "      <th></th>\n",
       "      <th>NER</th>\n",
       "      <th>Frequency</th>\n",
       "    </tr>\n",
       "  </thead>\n",
       "  <tbody>\n",
       "    <tr>\n",
       "      <th>83572</th>\n",
       "      <td>비바트</td>\n",
       "      <td>1</td>\n",
       "    </tr>\n",
       "    <tr>\n",
       "      <th>106494</th>\n",
       "      <td>이화외고</td>\n",
       "      <td>1</td>\n",
       "    </tr>\n",
       "    <tr>\n",
       "      <th>87248</th>\n",
       "      <td>상훈담당관</td>\n",
       "      <td>1</td>\n",
       "    </tr>\n",
       "    <tr>\n",
       "      <th>87264</th>\n",
       "      <td>휘변호사</td>\n",
       "      <td>1</td>\n",
       "    </tr>\n",
       "    <tr>\n",
       "      <th>84328</th>\n",
       "      <td>유보라KAIVE</td>\n",
       "      <td>1</td>\n",
       "    </tr>\n",
       "  </tbody>\n",
       "</table>\n",
       "</div>"
      ],
      "text/plain": [
       "             NER  Frequency\n",
       "83572        비바트          1\n",
       "106494      이화외고          1\n",
       "87248      상훈담당관          1\n",
       "87264       휘변호사          1\n",
       "84328   유보라KAIVE          1"
      ]
     },
     "execution_count": 9,
     "metadata": {},
     "output_type": "execute_result"
    }
   ],
   "source": [
    "# 1회만 나온 것은 NER 모델의 오류이거나 거의 사용되지 않는 단어\n",
    "ner_counts_df[ner_counts_df['Frequency'] == 1].head()"
   ]
  },
  {
   "cell_type": "code",
   "execution_count": 10,
   "metadata": {},
   "outputs": [
    {
     "data": {
      "text/html": [
       "<div>\n",
       "<style scoped>\n",
       "    .dataframe tbody tr th:only-of-type {\n",
       "        vertical-align: middle;\n",
       "    }\n",
       "\n",
       "    .dataframe tbody tr th {\n",
       "        vertical-align: top;\n",
       "    }\n",
       "\n",
       "    .dataframe thead th {\n",
       "        text-align: right;\n",
       "    }\n",
       "</style>\n",
       "<table border=\"1\" class=\"dataframe\">\n",
       "  <thead>\n",
       "    <tr style=\"text-align: right;\">\n",
       "      <th></th>\n",
       "      <th>NER</th>\n",
       "      <th>Frequency</th>\n",
       "    </tr>\n",
       "  </thead>\n",
       "  <tbody>\n",
       "    <tr>\n",
       "      <th>12735</th>\n",
       "      <td>바른미래당</td>\n",
       "      <td>6</td>\n",
       "    </tr>\n",
       "  </tbody>\n",
       "</table>\n",
       "</div>"
      ],
      "text/plain": [
       "         NER  Frequency\n",
       "12735  바른미래당          6"
      ]
     },
     "execution_count": 10,
     "metadata": {},
     "output_type": "execute_result"
    }
   ],
   "source": [
    "ner_counts_df[ner_counts_df['NER'] == '바른미래당']"
   ]
  },
  {
   "cell_type": "code",
   "execution_count": 11,
   "metadata": {},
   "outputs": [
    {
     "data": {
      "text/html": [
       "<div>\n",
       "<style scoped>\n",
       "    .dataframe tbody tr th:only-of-type {\n",
       "        vertical-align: middle;\n",
       "    }\n",
       "\n",
       "    .dataframe tbody tr th {\n",
       "        vertical-align: top;\n",
       "    }\n",
       "\n",
       "    .dataframe thead th {\n",
       "        text-align: right;\n",
       "    }\n",
       "</style>\n",
       "<table border=\"1\" class=\"dataframe\">\n",
       "  <thead>\n",
       "    <tr style=\"text-align: right;\">\n",
       "      <th></th>\n",
       "      <th>NER</th>\n",
       "      <th>Frequency</th>\n",
       "    </tr>\n",
       "  </thead>\n",
       "  <tbody>\n",
       "    <tr>\n",
       "      <th>18298</th>\n",
       "      <td>9사단</td>\n",
       "      <td>5</td>\n",
       "    </tr>\n",
       "    <tr>\n",
       "      <th>28788</th>\n",
       "      <td>탄저병</td>\n",
       "      <td>5</td>\n",
       "    </tr>\n",
       "    <tr>\n",
       "      <th>24054</th>\n",
       "      <td>독립야구단</td>\n",
       "      <td>5</td>\n",
       "    </tr>\n",
       "    <tr>\n",
       "      <th>32176</th>\n",
       "      <td>기소</td>\n",
       "      <td>5</td>\n",
       "    </tr>\n",
       "    <tr>\n",
       "      <th>105533</th>\n",
       "      <td>아자부다이힐스</td>\n",
       "      <td>5</td>\n",
       "    </tr>\n",
       "  </tbody>\n",
       "</table>\n",
       "</div>"
      ],
      "text/plain": [
       "            NER  Frequency\n",
       "18298       9사단          5\n",
       "28788       탄저병          5\n",
       "24054     독립야구단          5\n",
       "32176        기소          5\n",
       "105533  아자부다이힐스          5"
      ]
     },
     "execution_count": 11,
     "metadata": {},
     "output_type": "execute_result"
    }
   ],
   "source": [
    "# 5번 이상부터는 유의미해 보임\n",
    "ner_counts_df[ner_counts_df['Frequency'] == 5].head()"
   ]
  },
  {
   "cell_type": "code",
   "execution_count": 12,
   "metadata": {},
   "outputs": [
    {
     "data": {
      "text/plain": [
       "18887"
      ]
     },
     "execution_count": 12,
     "metadata": {},
     "output_type": "execute_result"
    }
   ],
   "source": [
    "len(ner_counts_df[ner_counts_df['Frequency'] >= 5])"
   ]
  },
  {
   "cell_type": "markdown",
   "metadata": {},
   "source": [
    "- 약 3만개의 기사에서 추출된 NER 약 100만개, 그 중에서 중복없이 나온 단어 총 11만개\n",
    "- 중복없이 나온 단어들 중에서 빈도 수가 10 미만인 단어들을 제거하여, 유의미하다고 판단한 단어는 약 2만개\n",
    "- 이 2만개의 단어를 Kiwi 형태소 분석기 사전에 추가하여 BM25의 tokenizer로 사용할 계획"
   ]
  },
  {
   "cell_type": "code",
   "execution_count": 13,
   "metadata": {},
   "outputs": [
    {
     "data": {
      "text/plain": [
       "18887"
      ]
     },
     "execution_count": 13,
     "metadata": {},
     "output_type": "execute_result"
    }
   ],
   "source": [
    "ner_counts_df = ner_counts_df[ner_counts_df['Frequency'] >= 5]\n",
    "len(ner_counts_df)"
   ]
  },
  {
   "cell_type": "code",
   "execution_count": 14,
   "metadata": {},
   "outputs": [
    {
     "data": {
      "text/plain": [
       "23569"
      ]
     },
     "execution_count": 14,
     "metadata": {},
     "output_type": "execute_result"
    }
   ],
   "source": [
    "ner_counts_df['Frequency'].max()"
   ]
  },
  {
   "cell_type": "code",
   "execution_count": 15,
   "metadata": {},
   "outputs": [],
   "source": [
    "# 각각의 NER에 우선순위(score)는 빈도값의 역순으로 적용(값이 높을수록 우선순위가 높게 책정됨)\n",
    "# 빈도값이 높을수록 짧은 경우가 많은데 그런 경우 적게 나온 고유 명사의 일부분에 해당하여 하위 빈도값이 하나의 형태소로 인식되지 않는 문제가 발생\n",
    "# 따라서 오히려 빈도값의 역순으로 지정하되 값이 0보다 크도록 max+1에서 뺀 값을 적용\n",
    "# 기존 사전의 경우 대부분의 값이 0이하이며, score를 지정하지 않으면 0이 default로 적용됨\n",
    "\n",
    "# 추가적으로 NNP로 하는 경우 기존 사전에 있는 단어의 경우 반영이 되지 않는 문제가 발생\n",
    "# NER에서는 거의 없는 임의의 태그(EC - 연결어미)를 사용해서 강제로 높은 score로 사전에 추가하는 방식에 사용\n",
    "# (수정) EC로 넣는 경우 어떠한 충돌 때문인지 제대로 작동하지 않음 --> 같은 체언 계열에 NER에는 거의 없는 NNB로 할당하면 문제 없이 작동\n",
    "with open(\"model/custom_dict.txt\", \"w\", encoding='utf-8') as f:\n",
    "    for idx in range(len(ner_counts_df)):\n",
    "        line = ner_counts_df.iloc[idx]['NER'] + '\\t' + 'NNB' + '\\t' + str(((ner_counts_df['Frequency'].max() + 1) - ner_counts_df.iloc[idx]['Frequency'])/10000) + '\\n'\n",
    "        f.write(line)"
   ]
  },
  {
   "cell_type": "code",
   "execution_count": 16,
   "metadata": {},
   "outputs": [
    {
     "data": {
      "text/plain": [
       "18887"
      ]
     },
     "execution_count": 16,
     "metadata": {},
     "output_type": "execute_result"
    }
   ],
   "source": [
    "valid_ner_set = ner_counts_df['NER'].tolist()\n",
    "len(valid_ner_set)"
   ]
  },
  {
   "cell_type": "code",
   "execution_count": 17,
   "metadata": {},
   "outputs": [
    {
     "data": {
      "text/plain": [
       "['대통령', '정부', '미국', '한국', '서울', '의원', 'AI', '민주당', '중국', '교수']"
      ]
     },
     "execution_count": 17,
     "metadata": {},
     "output_type": "execute_result"
    }
   ],
   "source": [
    "valid_ner_set[:10]"
   ]
  },
  {
   "cell_type": "markdown",
   "metadata": {},
   "source": [
    "## 3. Kiwi 형태소 분석기 사전 구성"
   ]
  },
  {
   "cell_type": "code",
   "execution_count": 28,
   "metadata": {},
   "outputs": [],
   "source": [
    "from kiwipiepy import Kiwi\n",
    "from kiwipiepy.utils import Stopwords\n",
    "\n",
    "kiwi = Kiwi(num_workers=0, model_type='sbg') # SkipBigram(sbg)\n",
    "stopwords = Stopwords()"
   ]
  },
  {
   "cell_type": "code",
   "execution_count": 29,
   "metadata": {},
   "outputs": [
    {
     "name": "stdout",
     "output_type": "stream",
     "text": [
      "[Token(form='바르', tag='VA', start=0, len=2), Token(form='미래', tag='NNG', start=2, len=2), Token(form='당', tag='NNG', start=4, len=1), Token(form='후보', tag='NNG', start=6, len=2), Token(form='밥', tag='NNG', start=10, len=1), Token(form='먹', tag='VV', start=13, len=1)]\n",
      "[Token(form='카카오', tag='NNP', start=0, len=3), Token(form='프렌즈', tag='NNG', start=3, len=3), Token(form='잘', tag='MAG', start=8, len=1), Token(form='이용', tag='NNG', start=10, len=2)]\n"
     ]
    }
   ],
   "source": [
    "# 사전에 '바른미래당'이 없어서 분리되는 것을 확인 가능\n",
    "print(kiwi.tokenize(\"바른미래당 후보가 밥을 먹었다\",stopwords=stopwords))\n",
    "\n",
    "# 카카오프렌즈의 경우 '카카오', '프렌즈'의 score가 더 높아서 하나의 단어로 인식되지 않는 문제가 있다\n",
    "print(kiwi.tokenize(\"카카오프렌즈를 잘 이용하고 있다\",stopwords=stopwords))"
   ]
  },
  {
   "cell_type": "code",
   "execution_count": null,
   "metadata": {},
   "outputs": [],
   "source": [
    "# 18887개 중 5개를 제외하고는 다 새롭게 사전에 추가된 것을 확인\n",
    "# 기존의 사전은 https://raw.githubusercontent.com/bab2min/Kiwi/main/ModelGenerator/default.dict에서 확인 가능\n",
    "# Documentation은 https://github.com/bab2min/kiwipiepy/blob/main/README.md를 참고\n",
    "kiwi.load_user_dictionary(dict_path=\"model/custom_dict.txt\")"
   ]
  },
  {
   "cell_type": "code",
   "execution_count": 26,
   "metadata": {},
   "outputs": [
    {
     "data": {
      "text/plain": [
       "[Token(form='바른미래당', tag='NNB', start=0, len=5),\n",
       " Token(form='후보', tag='NNB', start=6, len=2),\n",
       " Token(form='밥', tag='NNG', start=10, len=1),\n",
       " Token(form='먹', tag='VV', start=13, len=1)]"
      ]
     },
     "execution_count": 26,
     "metadata": {},
     "output_type": "execute_result"
    }
   ],
   "source": [
    "kiwi.tokenize(\"바른미래당 후보가 밥을 먹었다\",stopwords=stopwords)"
   ]
  },
  {
   "cell_type": "code",
   "execution_count": 27,
   "metadata": {},
   "outputs": [
    {
     "data": {
      "text/plain": [
       "[Token(form='카카오프렌즈', tag='NNB', start=0, len=6),\n",
       " Token(form='잘', tag='MAG', start=8, len=1),\n",
       " Token(form='이용', tag='NNG', start=10, len=2)]"
      ]
     },
     "execution_count": 27,
     "metadata": {},
     "output_type": "execute_result"
    }
   ],
   "source": [
    "kiwi.tokenize(\"카카오프렌즈를 잘 이용하고 있다\",stopwords=stopwords)"
   ]
  },
  {
   "cell_type": "code",
   "execution_count": 31,
   "metadata": {},
   "outputs": [
    {
     "data": {
      "text/html": [
       "<div>\n",
       "<style scoped>\n",
       "    .dataframe tbody tr th:only-of-type {\n",
       "        vertical-align: middle;\n",
       "    }\n",
       "\n",
       "    .dataframe tbody tr th {\n",
       "        vertical-align: top;\n",
       "    }\n",
       "\n",
       "    .dataframe thead th {\n",
       "        text-align: right;\n",
       "    }\n",
       "</style>\n",
       "<table border=\"1\" class=\"dataframe\">\n",
       "  <thead>\n",
       "    <tr style=\"text-align: right;\">\n",
       "      <th></th>\n",
       "      <th>id</th>\n",
       "      <th>title</th>\n",
       "      <th>date</th>\n",
       "      <th>content</th>\n",
       "    </tr>\n",
       "  </thead>\n",
       "  <tbody>\n",
       "    <tr>\n",
       "      <th>0</th>\n",
       "      <td>122846231_0</td>\n",
       "      <td>중 군 고위간부 9명 전인대 대표 박탈… '로켓군' 납품 관련 부패사건 연루 의혹</td>\n",
       "      <td>20240101</td>\n",
       "      <td>\"리상푸 전국방부장 낙마와 연관\" 리부장 후임엔 해군출신 둥쥔 중국 당국이 '반(반...</td>\n",
       "    </tr>\n",
       "    <tr>\n",
       "      <th>1</th>\n",
       "      <td>122846231_1</td>\n",
       "      <td>중 군 고위간부 9명 전인대 대표 박탈… '로켓군' 납품 관련 부패사건 연루 의혹</td>\n",
       "      <td>20240101</td>\n",
       "      <td>장비 발전(조달) 부문에 집중됐던 것으로 전해졌다. 커우젠원(구건문) 대만정치대 ...</td>\n",
       "    </tr>\n",
       "    <tr>\n",
       "      <th>2</th>\n",
       "      <td>122846362_0</td>\n",
       "      <td>서울 12cm 기습 폭설… \"이런 눈 또 온다\"</td>\n",
       "      <td>20240101</td>\n",
       "      <td>13년만에 최대… 도로 곳곳 사고 방파제 추락-조난사고도 발생 \"엘니뇨-온난화로 폭...</td>\n",
       "    </tr>\n",
       "    <tr>\n",
       "      <th>3</th>\n",
       "      <td>122846362_1</td>\n",
       "      <td>서울 12cm 기습 폭설… \"이런 눈 또 온다\"</td>\n",
       "      <td>20240101</td>\n",
       "      <td>역 방향으로 향하는 통일로 5차로에서 추돌사고가 발생해 도로가 한때 부분 통제됐다....</td>\n",
       "    </tr>\n",
       "    <tr>\n",
       "      <th>4</th>\n",
       "      <td>122846400_0</td>\n",
       "      <td>'자산 301조원' 머스크, 세계 최고 부자에</td>\n",
       "      <td>20240101</td>\n",
       "      <td>1년새 124조원 늘어… 증가액도 1위 아르노 LVMH 회장 2위로 밀려나 베이조스...</td>\n",
       "    </tr>\n",
       "  </tbody>\n",
       "</table>\n",
       "</div>"
      ],
      "text/plain": [
       "            id                                          title      date  \\\n",
       "0  122846231_0  중 군 고위간부 9명 전인대 대표 박탈… '로켓군' 납품 관련 부패사건 연루 의혹  20240101   \n",
       "1  122846231_1  중 군 고위간부 9명 전인대 대표 박탈… '로켓군' 납품 관련 부패사건 연루 의혹  20240101   \n",
       "2  122846362_0                     서울 12cm 기습 폭설… \"이런 눈 또 온다\"  20240101   \n",
       "3  122846362_1                     서울 12cm 기습 폭설… \"이런 눈 또 온다\"  20240101   \n",
       "4  122846400_0                      '자산 301조원' 머스크, 세계 최고 부자에  20240101   \n",
       "\n",
       "                                             content  \n",
       "0  \"리상푸 전국방부장 낙마와 연관\" 리부장 후임엔 해군출신 둥쥔 중국 당국이 '반(반...  \n",
       "1   장비 발전(조달) 부문에 집중됐던 것으로 전해졌다. 커우젠원(구건문) 대만정치대 ...  \n",
       "2  13년만에 최대… 도로 곳곳 사고 방파제 추락-조난사고도 발생 \"엘니뇨-온난화로 폭...  \n",
       "3  역 방향으로 향하는 통일로 5차로에서 추돌사고가 발생해 도로가 한때 부분 통제됐다....  \n",
       "4  1년새 124조원 늘어… 증가액도 1위 아르노 LVMH 회장 2위로 밀려나 베이조스...  "
      ]
     },
     "execution_count": 31,
     "metadata": {},
     "output_type": "execute_result"
    }
   ],
   "source": [
    "import pandas as pd\n",
    "\n",
    "df = pd.read_csv(\"dataset/2024_norm_split.csv\")\n",
    "df.head()"
   ]
  },
  {
   "cell_type": "code",
   "execution_count": 32,
   "metadata": {},
   "outputs": [
    {
     "data": {
      "text/plain": [
       "73668"
      ]
     },
     "execution_count": 32,
     "metadata": {},
     "output_type": "execute_result"
    }
   ],
   "source": [
    "corpus = df['content'].tolist()\n",
    "len(corpus)"
   ]
  },
  {
   "cell_type": "code",
   "execution_count": 33,
   "metadata": {},
   "outputs": [
    {
     "name": "stderr",
     "output_type": "stream",
     "text": [
      "100%|██████████| 73668/73668 [1:59:02<00:00, 10.31it/s]  \n"
     ]
    }
   ],
   "source": [
    "from tqdm import tqdm\n",
    "\n",
    "# 전체 데이터셋에 대해서도 오류없이 tokenizing이 잘 되는 모습을 확인\n",
    "for content in tqdm(corpus):\n",
    "    try:\n",
    "        kiwi.tokenize(content,stopwords=stopwords)\n",
    "    except Exception as e:\n",
    "        print(e)"
   ]
  }
 ],
 "metadata": {
  "kernelspec": {
   "display_name": "milvus",
   "language": "python",
   "name": "python3"
  },
  "language_info": {
   "codemirror_mode": {
    "name": "ipython",
    "version": 3
   },
   "file_extension": ".py",
   "mimetype": "text/x-python",
   "name": "python",
   "nbconvert_exporter": "python",
   "pygments_lexer": "ipython3",
   "version": "3.10.14"
  }
 },
 "nbformat": 4,
 "nbformat_minor": 2
}
