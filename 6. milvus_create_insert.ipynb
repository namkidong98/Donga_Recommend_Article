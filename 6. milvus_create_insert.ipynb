{
 "cells": [
  {
   "cell_type": "markdown",
   "metadata": {},
   "source": [
    "## Milvus Container 실행\n",
    "milvus 디렉토리 내부에 필요 파일들 설치"
   ]
  },
  {
   "cell_type": "code",
   "execution_count": null,
   "metadata": {},
   "outputs": [],
   "source": [
    "# cd milvus/\n",
    "# curl -sfL https://raw.githubusercontent.com/milvus-io/milvus/master/scripts/standalone_embed.sh -o standalone_embed.sh\n",
    "# bash standalone_embed.sh start\n",
    "# docker pull zilliz/attu:latest\n",
    "# docker run -p 8000:3000 -e HOST_URL=http://127.0.0.1:8000 -e MILVUS_URL={Default Swtich의 IPv4 주소}:19530 zilliz/attu:latest\n",
    "# cd ../"
   ]
  },
  {
   "cell_type": "markdown",
   "metadata": {},
   "source": [
    "## Milvus Database Create"
   ]
  },
  {
   "cell_type": "code",
   "execution_count": 90,
   "metadata": {},
   "outputs": [],
   "source": [
    "from pymilvus import connections, utility, FieldSchema, CollectionSchema, DataType, Collection\n",
    "\n",
    "QUERY_MODEL = 'solar-embedding-1-large-query'\n",
    "PASSAGE_MODEL = 'solar-embedding-1-large-passage'\n",
    "\n",
    "DENSE_FIELD = \"dense_vector\"\n",
    "DENSE_DIMENSION = 4096 \n",
    "DENSE_INDEX = {\"index_type\" : \"FLAT\", \"metric_type\" : \"IP\"}\n",
    "\n",
    "SPARSE_FILED = \"sparse_vector\"\n",
    "SPARSE_INDEX = {\"index_type\" : \"SPARSE_INVERTED_INDEX\", \"metric_type\" : \"IP\"}\n",
    "\n",
    "# Collection 접속 및 생성\n",
    "def milvus_connect(collection_name):\n",
    "    # Milvus 설정\n",
    "    MILVUS_HOST = '127.0.0.1'\n",
    "    MILVUS_PORT = '19530'     \n",
    "\n",
    "    # Milvus 연결\n",
    "    connections.connect(host=MILVUS_HOST, port=MILVUS_PORT)\n",
    "    if connections:\n",
    "        print(\"Milvus connected\")\n",
    "    else:\n",
    "        exit()\n",
    "\n",
    "    # 컬렉션 존재 여부 확인 및 생성\n",
    "    if utility.has_collection(collection_name):\n",
    "        collection = Collection(collection_name)\n",
    "        print(f\"Collection '{collection_name}' loaded.\")\n",
    "    else:\n",
    "        print(f\"Collection '{collection_name}' does not exist.\")\n",
    "        print(f\"Create '{collection_name}' Collection.\")\n",
    "        \n",
    "        field_args = [\n",
    "            FieldSchema(name='id', dtype=DataType.VARCHAR, is_primary=True, max_length=100),        # split된 block의 고유 ID\n",
    "            FieldSchema(name='title', dtype=DataType.VARCHAR, max_length=2000),\n",
    "            FieldSchema(name='date', dtype=DataType.INT64),\n",
    "            FieldSchema(name='content', dtype=DataType.VARCHAR, max_length=5000),\n",
    "            FieldSchema(name='NER', dtype=DataType.VARCHAR, max_length=3000),\n",
    "            FieldSchema(name=DENSE_FIELD, dtype=DataType.FLOAT_VECTOR, dim=DENSE_DIMENSION),\n",
    "            FieldSchema(name=SPARSE_FILED, dtype=DataType.SPARSE_FLOAT_VECTOR)\n",
    "        ]\n",
    "        \n",
    "        # 스키마 정의\n",
    "        schema = CollectionSchema(fields=field_args)\n",
    "        \n",
    "        # 컬렉션 생성\n",
    "        collection = Collection(name=collection_name, schema=schema)\n",
    "        \n",
    "        # 인덱스 생성\n",
    "        collection.create_index(\"dense_vector\", DENSE_INDEX)\n",
    "        collection.create_index(\"sparse_vector\", SPARSE_INDEX)\n",
    "\n",
    "        collection.flush()\n",
    "\n",
    "        print(f\"Collection '{collection_name}' created and loaded.\")\n",
    "    # 생성된 컬렉션 반환\n",
    "    return collection\n",
    "\n",
    "# Collection 제거용\n",
    "def drop_collection(collection_name):\n",
    "    MILVUS_HOST = '127.0.0.1'\n",
    "    MILVUS_PORT = '19530' \n",
    "    connections.connect(host=MILVUS_HOST, port=MILVUS_PORT)\n",
    "    if utility.has_collection(collection_name):\n",
    "        utility.drop_collection(collection_name)\n",
    "        print(f\"Drop {collection_name} Complete.\")\n",
    "    else:\n",
    "        print(f\"Can't find {collection_name}.\")\n",
    "# drop_collection(\"Donga\")"
   ]
  },
  {
   "cell_type": "code",
   "execution_count": 91,
   "metadata": {},
   "outputs": [
    {
     "name": "stdout",
     "output_type": "stream",
     "text": [
      "Can't find Donga.\n"
     ]
    }
   ],
   "source": [
    "drop_collection(\"Donga\")"
   ]
  },
  {
   "cell_type": "code",
   "execution_count": 92,
   "metadata": {},
   "outputs": [
    {
     "name": "stdout",
     "output_type": "stream",
     "text": [
      "Milvus connected\n",
      "Collection 'Donga' does not exist.\n",
      "Create 'Donga' Collection.\n",
      "Collection 'Donga' created and loaded.\n",
      "<Collection>:\n",
      "-------------\n",
      "<name>: Donga\n",
      "<description>: \n",
      "<schema>: {'auto_id': False, 'description': '', 'fields': [{'name': 'id', 'description': '', 'type': <DataType.VARCHAR: 21>, 'params': {'max_length': 100}, 'is_primary': True, 'auto_id': False}, {'name': 'title', 'description': '', 'type': <DataType.VARCHAR: 21>, 'params': {'max_length': 2000}}, {'name': 'date', 'description': '', 'type': <DataType.INT64: 5>}, {'name': 'content', 'description': '', 'type': <DataType.VARCHAR: 21>, 'params': {'max_length': 5000}}, {'name': 'NER', 'description': '', 'type': <DataType.VARCHAR: 21>, 'params': {'max_length': 3000}}, {'name': 'dense_vector', 'description': '', 'type': <DataType.FLOAT_VECTOR: 101>, 'params': {'dim': 4096}}, {'name': 'sparse_vector', 'description': '', 'type': <DataType.SPARSE_FLOAT_VECTOR: 104>}], 'enable_dynamic_field': False}\n",
      "\n"
     ]
    }
   ],
   "source": [
    "collection = milvus_connect(\"Donga\")\n",
    "print(collection)"
   ]
  },
  {
   "cell_type": "markdown",
   "metadata": {},
   "source": [
    "## Data Load & Embedding Function Setting"
   ]
  },
  {
   "cell_type": "code",
   "execution_count": 77,
   "metadata": {},
   "outputs": [
    {
     "name": "stdout",
     "output_type": "stream",
     "text": [
      "<model.bm25_model.Custom_BM25 object at 0x000001DA02DB9990>\n"
     ]
    }
   ],
   "source": [
    "# Sparse Embedding : Custom BM25\n",
    "\n",
    "from model.bm25_model import Custom_BM25, Kiwi_Tokenizer\n",
    "\n",
    "tokenizer = Kiwi_Tokenizer(\"model/custom_dict.txt\")\n",
    "custom_bm25 = Custom_BM25(corpus=[], tokenizer=tokenizer)\n",
    "custom_bm25.load(\"model/bm25_model.json\")\n",
    "print(custom_bm25)"
   ]
  },
  {
   "cell_type": "code",
   "execution_count": 78,
   "metadata": {},
   "outputs": [],
   "source": [
    "# Dense Embedding : Upstage/solar-embedding-1-large\n",
    "\n",
    "from openai import OpenAI\n",
    "from dotenv import load_dotenv\n",
    "import os\n",
    "\n",
    "load_dotenv()\n",
    "\n",
    "client = OpenAI(\n",
    "    api_key = os.getenv(\"UPSTAGE_API_KEY\"),\n",
    "    base_url = \"https://api.upstage.ai/v1/solar\"\n",
    ")"
   ]
  },
  {
   "cell_type": "code",
   "execution_count": 79,
   "metadata": {},
   "outputs": [
    {
     "name": "stdout",
     "output_type": "stream",
     "text": [
      "72401\n"
     ]
    },
    {
     "data": {
      "text/html": [
       "<div>\n",
       "<style scoped>\n",
       "    .dataframe tbody tr th:only-of-type {\n",
       "        vertical-align: middle;\n",
       "    }\n",
       "\n",
       "    .dataframe tbody tr th {\n",
       "        vertical-align: top;\n",
       "    }\n",
       "\n",
       "    .dataframe thead th {\n",
       "        text-align: right;\n",
       "    }\n",
       "</style>\n",
       "<table border=\"1\" class=\"dataframe\">\n",
       "  <thead>\n",
       "    <tr style=\"text-align: right;\">\n",
       "      <th></th>\n",
       "      <th>id</th>\n",
       "      <th>title</th>\n",
       "      <th>date</th>\n",
       "      <th>content</th>\n",
       "      <th>NER</th>\n",
       "    </tr>\n",
       "  </thead>\n",
       "  <tbody>\n",
       "    <tr>\n",
       "      <th>0</th>\n",
       "      <td>122846231_0</td>\n",
       "      <td>중 군 고위간부 9명 전인대 대표 박탈… '로켓군' 납품 관련 부패사건 연루 의혹</td>\n",
       "      <td>20240101</td>\n",
       "      <td>\"리상푸 전국방부장 낙마와 연관\" 리부장 후임엔 해군출신 둥쥔 중국 당국이 '반(반...</td>\n",
       "      <td>리상푸 전국방부장 리부장 해군 둥쥔 중국 군 중국 국방부장 대만 필리핀 남중국해 중...</td>\n",
       "    </tr>\n",
       "    <tr>\n",
       "      <th>1</th>\n",
       "      <td>122846231_1</td>\n",
       "      <td>중 군 고위간부 9명 전인대 대표 박탈… '로켓군' 납품 관련 부패사건 연루 의혹</td>\n",
       "      <td>20240101</td>\n",
       "      <td>장비 발전(조달) 부문에 집중됐던 것으로 전해졌다. 커우젠원(구건문) 대만정치대 ...</td>\n",
       "      <td>커우젠원 구건문 대만정치대 주임 전국인대 중국 중앙군사위 중국 리상푸 李상복 국방부...</td>\n",
       "    </tr>\n",
       "    <tr>\n",
       "      <th>2</th>\n",
       "      <td>122846362_0</td>\n",
       "      <td>서울 12cm 기습 폭설… \"이런 눈 또 온다\"</td>\n",
       "      <td>20240101</td>\n",
       "      <td>13년만에 최대… 도로 곳곳 사고 방파제 추락-조난사고도 발생 \"엘니뇨-온난화로 폭...</td>\n",
       "      <td>서울 기상청 서울 한반도 강원 서울 광진구 마을버스 종로구 서대문구</td>\n",
       "    </tr>\n",
       "    <tr>\n",
       "      <th>3</th>\n",
       "      <td>122846362_1</td>\n",
       "      <td>서울 12cm 기습 폭설… \"이런 눈 또 온다\"</td>\n",
       "      <td>20240101</td>\n",
       "      <td>역 방향으로 향하는 통일로 5차로에서 추돌사고가 발생해 도로가 한때 부분 통제됐다....</td>\n",
       "      <td>통일로 5차로 천호대교 북단 강원 춘천시 트럭 강원 삼척시 아래 구급대원 평창군 소...</td>\n",
       "    </tr>\n",
       "    <tr>\n",
       "      <th>4</th>\n",
       "      <td>122846400_0</td>\n",
       "      <td>'자산 301조원' 머스크, 세계 최고 부자에</td>\n",
       "      <td>20240101</td>\n",
       "      <td>1년새 124조원 늘어… 증가액도 1위 아르노 LVMH 회장 2위로 밀려나 베이조스...</td>\n",
       "      <td>아르노 LVMH 회장 베이조스 게이츠 머어이재용 회장 일론 프랑스 루이뷔통모에에네시...</td>\n",
       "    </tr>\n",
       "  </tbody>\n",
       "</table>\n",
       "</div>"
      ],
      "text/plain": [
       "            id                                          title      date  \\\n",
       "0  122846231_0  중 군 고위간부 9명 전인대 대표 박탈… '로켓군' 납품 관련 부패사건 연루 의혹  20240101   \n",
       "1  122846231_1  중 군 고위간부 9명 전인대 대표 박탈… '로켓군' 납품 관련 부패사건 연루 의혹  20240101   \n",
       "2  122846362_0                     서울 12cm 기습 폭설… \"이런 눈 또 온다\"  20240101   \n",
       "3  122846362_1                     서울 12cm 기습 폭설… \"이런 눈 또 온다\"  20240101   \n",
       "4  122846400_0                      '자산 301조원' 머스크, 세계 최고 부자에  20240101   \n",
       "\n",
       "                                             content  \\\n",
       "0  \"리상푸 전국방부장 낙마와 연관\" 리부장 후임엔 해군출신 둥쥔 중국 당국이 '반(반...   \n",
       "1   장비 발전(조달) 부문에 집중됐던 것으로 전해졌다. 커우젠원(구건문) 대만정치대 ...   \n",
       "2  13년만에 최대… 도로 곳곳 사고 방파제 추락-조난사고도 발생 \"엘니뇨-온난화로 폭...   \n",
       "3  역 방향으로 향하는 통일로 5차로에서 추돌사고가 발생해 도로가 한때 부분 통제됐다....   \n",
       "4  1년새 124조원 늘어… 증가액도 1위 아르노 LVMH 회장 2위로 밀려나 베이조스...   \n",
       "\n",
       "                                                 NER  \n",
       "0  리상푸 전국방부장 리부장 해군 둥쥔 중국 군 중국 국방부장 대만 필리핀 남중국해 중...  \n",
       "1  커우젠원 구건문 대만정치대 주임 전국인대 중국 중앙군사위 중국 리상푸 李상복 국방부...  \n",
       "2              서울 기상청 서울 한반도 강원 서울 광진구 마을버스 종로구 서대문구  \n",
       "3  통일로 5차로 천호대교 북단 강원 춘천시 트럭 강원 삼척시 아래 구급대원 평창군 소...  \n",
       "4  아르노 LVMH 회장 베이조스 게이츠 머어이재용 회장 일론 프랑스 루이뷔통모에에네시...  "
      ]
     },
     "execution_count": 79,
     "metadata": {},
     "output_type": "execute_result"
    }
   ],
   "source": [
    "import pandas as pd\n",
    "\n",
    "df = pd.read_csv(\"dataset/2024_norm_split_ner_pruning.csv\")\n",
    "print(len(df))\n",
    "df.head()"
   ]
  },
  {
   "cell_type": "code",
   "execution_count": 93,
   "metadata": {},
   "outputs": [
    {
     "name": "stderr",
     "output_type": "stream",
     "text": [
      "  0%|          | 0/725 [00:00<?, ?it/s]"
     ]
    },
    {
     "name": "stderr",
     "output_type": "stream",
     "text": [
      "100%|██████████| 725/725 [4:12:32<00:00, 20.90s/it]  \n"
     ]
    },
    {
     "data": {
      "text/plain": [
       "0"
      ]
     },
     "execution_count": 93,
     "metadata": {},
     "output_type": "execute_result"
    }
   ],
   "source": [
    "import gc\n",
    "from tqdm import tqdm\n",
    "\n",
    "start = 0\n",
    "end = 100\n",
    "iteration = len(df) // 100 + 1\n",
    "for offset in tqdm(range(iteration)): # upstage에 100개씩만 허용이 되어서\n",
    "    # 데이터 슬라이싱\n",
    "    rows = df.iloc[start + 100 * offset : end + 100 * offset]\n",
    "    contents = rows['content'].tolist()\n",
    "\n",
    "    # Dense Embedding 생성 (list)\n",
    "    dense_embedding = client.embeddings.create(\n",
    "        model = 'solar-embedding-1-large-passage',\n",
    "        input = contents\n",
    "    )\n",
    "    dense_vectors = [doc_embedding.embedding for doc_embedding in dense_embedding.data]\n",
    "    \n",
    "    # Sparse Embedding 생성 (dict)\n",
    "    sparse_embedding = custom_bm25.embed_documents(contents)\n",
    "\n",
    "    # Entities 생성 및 Milvus 삽입\n",
    "    entities = []\n",
    "    for idx in range(len(rows)):\n",
    "        entity = {\n",
    "            \"id\" : rows.iloc[idx]['id'],\n",
    "            \"title\" : rows.iloc[idx]['title'],\n",
    "            \"date\" : rows.iloc[idx]['date'],\n",
    "            \"content\" : rows.iloc[idx]['content'],\n",
    "            \"NER\" : rows.iloc[idx]['NER'],\n",
    "            DENSE_FIELD : dense_vectors[idx],\n",
    "            SPARSE_FILED : sparse_embedding[idx],\n",
    "        }\n",
    "        entities.append(entity)\n",
    "    collection.insert(entities) # 100개씩 넣기\n",
    "    collection.load()\n",
    "\n",
    "    # 사용이 끝난 변수 해제\n",
    "    del dense_vectors\n",
    "    del sparse_embedding\n",
    "    del entities\n",
    "    gc.collect()\n",
    "\n",
    "# 최종 메모리 해제\n",
    "gc.collect()"
   ]
  }
 ],
 "metadata": {
  "kernelspec": {
   "display_name": "milvus_hybrid",
   "language": "python",
   "name": "python3"
  },
  "language_info": {
   "codemirror_mode": {
    "name": "ipython",
    "version": 3
   },
   "file_extension": ".py",
   "mimetype": "text/x-python",
   "name": "python",
   "nbconvert_exporter": "python",
   "pygments_lexer": "ipython3",
   "version": "3.10.14"
  }
 },
 "nbformat": 4,
 "nbformat_minor": 2
}
